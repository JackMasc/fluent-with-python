{
 "cells": [
  {
   "cell_type": "markdown",
   "metadata": {},
   "source": [
    "## Emulating numeric types"
   ]
  },
  {
   "cell_type": "code",
   "execution_count": 9,
   "metadata": {},
   "outputs": [],
   "source": [
    "class Vector():\n",
    "    def __init__(self, x=0, y=0):\n",
    "        self._x = x\n",
    "        self._y = y\n",
    "\n",
    "    def __add__(self, vector):\n",
    "        if type(vector) is not Vector:\n",
    "            raise TypeError(\"Object to add must be of type: Vector\")\n",
    "        res_x = self._x + vector._x\n",
    "        res_y = self._y + vector._y\n",
    "        res_vector = Vector(res_x, res_y)\n",
    "        return res_vector\n",
    "\n",
    "    def __mul__(self, scalar):\n",
    "        res_x = self._x*scalar\n",
    "        res_y = self._y*scalar\n",
    "        return Vector(res_x, res_y)\n",
    "    \n",
    "    def __abs__(self):\n",
    "        return (self._x**2 + self._y**2)**0.5\n",
    "\n",
    "    def __repr__(self):\n",
    "        return 'Vector(%r, %r)' % (self._x, self._y)\n",
    "    \n",
    "    def __bool__(self):\n",
    "        return bool(abs(self))"
   ]
  },
  {
   "cell_type": "code",
   "execution_count": 12,
   "metadata": {},
   "outputs": [
    {
     "name": "stdout",
     "output_type": "stream",
     "text": [
      "Vector(5, 7)\n",
      "2.8284271247461903\n",
      "Vector(4, 4)\n",
      "True\n",
      "False\n"
     ]
    }
   ],
   "source": [
    "a = Vector(2,2)\n",
    "b = Vector(3,5)\n",
    "c = b+a\n",
    "print(c)\n",
    "print(abs(a))\n",
    "print(a*2)\n",
    "print(bool(a))\n",
    "d = Vector()\n",
    "print(bool(d))"
   ]
  },
  {
   "cell_type": "markdown",
   "metadata": {},
   "source": [
    "### String Representation (`__repr__`, `__str__`)\n",
    "In the `__repr__` implementation it is convenient to use %r to obtain the standard representation of the attributes to be displayed. \n",
    "The string returned should be unambiguous and match the source code.<br>\n",
    "`__str__` instead should return a string suitable for display to end users.<br>\n",
    "When no `__str__` is implemented, Python will call `__repr__` as a fallback."
   ]
  },
  {
   "cell_type": "markdown",
   "metadata": {},
   "source": [
    "### Arithmetic Operators (`__add__`, `__mul__`)\n",
    "They are meant to create a new object without modifying self."
   ]
  },
  {
   "cell_type": "markdown",
   "metadata": {},
   "source": [
    "### Boolean value of custom type (bool)\n",
    "By default instances of user defined classes are considered truthy, unless either `__bool__` or `__len__` are implemented. The call `bool()` checks if `__bool__` is implemented, otherwise looks for `__len__` returning True if len > 0 and False if len = 0. If neither of the two dunder methods are implemented the call returns always True. <br>\n",
    "When implemented `__bool__` must always return a boolean."
   ]
  }
 ],
 "metadata": {
  "kernelspec": {
   "display_name": "Python 3",
   "language": "python",
   "name": "python3"
  },
  "language_info": {
   "codemirror_mode": {
    "name": "ipython",
    "version": 3
   },
   "file_extension": ".py",
   "mimetype": "text/x-python",
   "name": "python",
   "nbconvert_exporter": "python",
   "pygments_lexer": "ipython3",
   "version": "3.13.1"
  }
 },
 "nbformat": 4,
 "nbformat_minor": 2
}
