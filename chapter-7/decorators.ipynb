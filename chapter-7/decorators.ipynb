{
 "cells": [
  {
   "cell_type": "markdown",
   "metadata": {},
   "source": [
    "## Decorators\n",
    "The decorator replaces the function"
   ]
  },
  {
   "cell_type": "code",
   "execution_count": null,
   "metadata": {},
   "outputs": [],
   "source": [
    "def deco(func):\n",
    "    def inner():\n",
    "        print('running inner()')\n",
    "    return inner\n",
    "\n",
    "@deco\n",
    "def target():\n",
    "    print('running target()')\n",
    "\n",
    "target()\n",
    "print(target)\n"
   ]
  },
  {
   "cell_type": "markdown",
   "metadata": {},
   "source": [
    "### When are decorators executed by python\n",
    "Decorators are executed immediately when a module is loaded, they run right after the decorated function is defined. <br>\n",
    "Decorators are imported at import time, the decorated functions are running at runtime."
   ]
  },
  {
   "cell_type": "code",
   "execution_count": null,
   "metadata": {},
   "outputs": [],
   "source": [
    "registry = []\n",
    "\n",
    "def register(func):\n",
    "    print('running register(%s)' % func)\n",
    "    registry.append(func)\n",
    "    return func\n",
    "\n",
    "@register\n",
    "def f1():\n",
    "    print('running f1')\n",
    "\n",
    "@register\n",
    "def f2():\n",
    "    print('running f2')\n",
    "\n",
    "def f3():\n",
    "    print('running f3')\n",
    "\n",
    "def main():\n",
    "    print('running main')\n",
    "    print('registry ->', registry)\n",
    "\n",
    "    f1()\n",
    "    f2()\n",
    "    f3()\n",
    "\n",
    "if __name__ == '__main__':\n",
    "    main()\n",
    "    "
   ]
  },
  {
   "cell_type": "markdown",
   "metadata": {},
   "source": [
    "### Decorator enhanced strategy pattern"
   ]
  },
  {
   "cell_type": "code",
   "execution_count": null,
   "metadata": {},
   "outputs": [],
   "source": [
    "# My noob implementation\n",
    "\n",
    "from typing import Callable\n",
    "\n",
    "promos = []\n",
    "\n",
    "def promotion(promo_func):\n",
    "    promos.append(promo_func)\n",
    "    return promo_func\n",
    "\n",
    "class Order:\n",
    "    def __init__(self, price: int, strategies: list[Callable]):\n",
    "        self.price = price\n",
    "        self.strategies = strategies\n",
    "\n",
    "    def pay(self):\n",
    "        return min(strategy(self.price) for strategy in self.strategies)\n",
    "    \n",
    "@promotion\n",
    "def happy_deal(price):\n",
    "    return price*0.75\n",
    "\n",
    "@promotion\n",
    "def winter_sale(price):\n",
    "    return price*0.50\n",
    "\n",
    "\n",
    "order = Order(34, promos)\n",
    "payment = order.pay()\n",
    "print(payment)\n"
   ]
  },
  {
   "cell_type": "code",
   "execution_count": null,
   "metadata": {},
   "outputs": [],
   "source": [
    "# Fluent python pro solution\n",
    "\n",
    "promos = []\n",
    "\n",
    "def promotion(promo_func):\n",
    "    promos.append(promo_func)\n",
    "    return promo_func\n",
    "\n",
    "@promotion\n",
    "def fidelity(order):\n",
    "    return order.total()*.05 if order.customer.fidelity >= 1000 else 0\n",
    "\n",
    "@promotion\n",
    "def bulk_item(order):\n",
    "    discount = 0\n",
    "    for item in order.cart:\n",
    "        if item.quantity >= 20:\n",
    "            discount += item.total()*.1\n",
    "    return discount\n",
    "\n",
    "@promotion\n",
    "def large_order(order):\n",
    "    distinct_items = {item.product for item in order.cart}\n",
    "    if len(distinct_items) >= 10:\n",
    "        return order.total()*.07\n",
    "    return 0\n",
    "\n",
    "def best_promo(order):\n",
    "    return max(promo(order) for promo in promos)"
   ]
  },
  {
   "cell_type": "markdown",
   "metadata": {},
   "source": [
    "### Variable scope rules"
   ]
  },
  {
   "cell_type": "code",
   "execution_count": null,
   "metadata": {},
   "outputs": [],
   "source": [
    "# function reading a local and a global variable\n",
    "def f1(a):\n",
    "    print(a)\n",
    "    print(b)\n",
    "\n",
    "f1(3)"
   ]
  },
  {
   "cell_type": "code",
   "execution_count": null,
   "metadata": {},
   "outputs": [],
   "source": [
    "b=6\n",
    "f1(3)"
   ]
  },
  {
   "cell_type": "markdown",
   "metadata": {},
   "source": [
    "Inside of a function Python decides if a variable is local or global based on the fact if the variable is assigned inside of the function, regardless of the fact that a global variable with the same name exists or not."
   ]
  },
  {
   "cell_type": "code",
   "execution_count": null,
   "metadata": {},
   "outputs": [],
   "source": [
    "def f2(a):\n",
    "    print(a)\n",
    "    print(b)\n",
    "    b=9\n",
    "\n",
    "f2(3)"
   ]
  },
  {
   "cell_type": "markdown",
   "metadata": {},
   "source": [
    "If you want to use b as a global variable use global"
   ]
  },
  {
   "cell_type": "code",
   "execution_count": null,
   "metadata": {},
   "outputs": [],
   "source": [
    "b=6\n",
    "\n",
    "def f3(a):\n",
    "    global b \n",
    "    print(a)\n",
    "    print(b)\n",
    "    b=9\n",
    "\n",
    "f3(2)\n",
    "print(b)\n",
    "b=7\n",
    "print(b)"
   ]
  },
  {
   "cell_type": "markdown",
   "metadata": {},
   "source": [
    "## Closures\n",
    "The idea is to have a function/method wich makes use of nonglobal variables which are not defined in the scope of the function/method. <br>\n",
    "This can be achieved bu using a callable class or a higher order function."
   ]
  },
  {
   "cell_type": "code",
   "execution_count": 7,
   "metadata": {},
   "outputs": [
    {
     "name": "stdout",
     "output_type": "stream",
     "text": [
      "3.0\n",
      "5.0\n"
     ]
    }
   ],
   "source": [
    "# Example with classes\n",
    "\n",
    "class Averager:\n",
    "    def __init__(self):\n",
    "        self.historical_data = []\n",
    "    \n",
    "    def __call__(self, new_data):\n",
    "        self.historical_data.append(new_data)\n",
    "        return sum(self.historical_data)/len(self.historical_data)\n",
    "\n",
    "avg = Averager()\n",
    "print(avg(3))\n",
    "print(avg(7))"
   ]
  },
  {
   "cell_type": "markdown",
   "metadata": {},
   "source": [
    "In the implementation with the higher order function (the closure), the variable *historical_data* is a **free variable**, this means that is a variable which is not bound in the local scope. <br>"
   ]
  },
  {
   "cell_type": "code",
   "execution_count": null,
   "metadata": {},
   "outputs": [],
   "source": [
    "# Example with higher order function\n",
    "\n",
    "def make_averager():\n",
    "    historical_data = []\n",
    "    def averager(new_data):\n",
    "        historical_data.append(new_data)\n",
    "        return sum(historical_data)/len(historical_data)\n",
    "    return averager\n",
    "\n",
    "avg = make_averager()\n",
    "print(avg(3))\n",
    "print(avg(7))\n",
    "\n",
    "avg2 = make_averager()\n",
    "print(avg(1))"
   ]
  },
  {
   "cell_type": "markdown",
   "metadata": {},
   "source": [
    "Names of local and free variables are kept in the `__code__` attribute of the closure object (the \"code\" attribute represents the compiled body of the function) "
   ]
  },
  {
   "cell_type": "code",
   "execution_count": null,
   "metadata": {},
   "outputs": [],
   "source": [
    "print(avg.__code__.co_varnames)\n",
    "print(avg.__code__.co_freevars)"
   ]
  },
  {
   "cell_type": "markdown",
   "metadata": {},
   "source": [
    "The binding for free variables are kept in the `__closure__` attribute of the closure. Wach item in `__closure__` corresponds to a name in `__code__.co_freevars`"
   ]
  },
  {
   "cell_type": "code",
   "execution_count": null,
   "metadata": {},
   "outputs": [],
   "source": [
    "print(avg.__code__.co_freevars)\n",
    "print(avg.__closure__)\n",
    "print(avg.__closure__[0].cell_contents)"
   ]
  },
  {
   "cell_type": "markdown",
   "metadata": {},
   "source": [
    "### Summary closure\n",
    "A closure is a function that retains the bindings of a free variable which exists when the function was defined. So the free variable can be used later when the function is invoked and the defining scope is no longer available. <br>\n",
    "Note that the only situation in which a function may need to deal with a variable which is not global, is when the function is nested into another one."
   ]
  },
  {
   "cell_type": "markdown",
   "metadata": {},
   "source": [
    "## The `nonlocal` declaration\n",
    "A more efficient version of the averager to avoid computing the mean every time."
   ]
  },
  {
   "cell_type": "code",
   "execution_count": null,
   "metadata": {},
   "outputs": [],
   "source": [
    "# Broken implementation --> ints are immutable, if you try to rebind them then the function considers them as local variables\n",
    "\n",
    "def make_smart_averager():\n",
    "    count = 0\n",
    "    total = 0\n",
    "\n",
    "    def averager(new_value):\n",
    "        count += 1\n",
    "        total += new_value\n",
    "        return total / count\n",
    "    \n",
    "    return averager\n",
    "\n",
    "avg = make_smart_averager()\n",
    "avg(10)"
   ]
  },
  {
   "cell_type": "markdown",
   "metadata": {},
   "source": [
    "To mark variables as free, you can make use of the `nonlocal` declaration"
   ]
  },
  {
   "cell_type": "code",
   "execution_count": null,
   "metadata": {},
   "outputs": [],
   "source": [
    "# Correct implementation\n",
    "\n",
    "def make_smart_averager():\n",
    "    count = 0\n",
    "    total = 0\n",
    "\n",
    "    def averager(new_value):\n",
    "        nonlocal count, total\n",
    "        count += 1\n",
    "        total += new_value\n",
    "        return total / count\n",
    "    \n",
    "    return averager\n",
    "\n",
    "avg = make_smart_averager()\n",
    "print(avg(10))\n",
    "print(avg(20))\n",
    "\n",
    "avg2 = make_smart_averager()\n",
    "print(avg2(5))"
   ]
  },
  {
   "cell_type": "markdown",
   "metadata": {},
   "source": [
    "## Decorators with nested functions"
   ]
  },
  {
   "cell_type": "code",
   "execution_count": null,
   "metadata": {},
   "outputs": [],
   "source": [
    "# Decorator to print running time of the function\n",
    "\n",
    "import time\n",
    "\n",
    "def clock(func):\n",
    "\n",
    "    def clocked(*args):\n",
    "        start_time = time.perf_counter()\n",
    "        result = func(*args)\n",
    "        end_time = time.perf_counter()\n",
    "        ex_time_ms = round((end_time-start_time)*10**9)\n",
    "        print(f\"Function took {ex_time_ms} [ns] to run\")\n",
    "        return result\n",
    "\n",
    "    return clocked\n",
    "\n",
    "@clock\n",
    "def average(some_list):\n",
    "    return sum(some_list) / len(some_list)\n",
    "\n",
    "the_list = range(1, 1000)\n",
    "print(average(the_list))\n",
    "print(average.__name__)\n",
    "\n"
   ]
  },
  {
   "cell_type": "markdown",
   "metadata": {},
   "source": [
    "## Standard library decorators"
   ]
  },
  {
   "cell_type": "markdown",
   "metadata": {},
   "source": [
    "### Memoization with `functools.lru_cache`\n",
    "**Memoization**: an optimization technique thath works by saving the results of previous invocations of an expensive function, avoiding repeat computations on previously used arguments. <br>\n",
    "LRU stands for _last recently used_ meaning that elements in the cache wich were not been read for a long time will be removed first."
   ]
  },
  {
   "cell_type": "code",
   "execution_count": 40,
   "metadata": {},
   "outputs": [
    {
     "name": "stdout",
     "output_type": "stream",
     "text": [
      "Function took 400 [ns] to run\n",
      "Function took 700 [ns] to run\n",
      "Function took 365300 [ns] to run\n",
      "Function took 800 [ns] to run\n",
      "Function took 381900 [ns] to run\n"
     ]
    },
    {
     "data": {
      "text/plain": [
       "3"
      ]
     },
     "execution_count": 40,
     "metadata": {},
     "output_type": "execute_result"
    }
   ],
   "source": [
    "import functools\n",
    "\n",
    "@functools.lru_cache()\n",
    "@clock\n",
    "def fibonacci(n):\n",
    "    if n < 2:\n",
    "        return n\n",
    "    return fibonacci(n-2) + fibonacci(n-1)\n",
    "\n",
    "fibonacci(4)"
   ]
  },
  {
   "cell_type": "markdown",
   "metadata": {},
   "source": [
    "### Generic functions with single Dispatch\n",
    "`functools.singledispatch` allows to define generic functions, this is a work around for the fact that there is no overloading of functions and methods in python."
   ]
  },
  {
   "cell_type": "code",
   "execution_count": null,
   "metadata": {},
   "outputs": [],
   "source": [
    "from functools import singledispatch\n",
    "from collections import abc\n",
    "import numbers\n",
    "import html\n",
    "\n",
    "@singledispatch\n",
    "def htmlize(obj):\n",
    "    content = html.escape(repr(obj))\n",
    "    return '<pre>{}</pre>'.format(content)\n",
    "\n",
    "@htmlize.register(str)\n",
    "def _(text):\n",
    "    content = html.escape(text).replace('\\n', '<br>\\n')\n",
    "    return '<p>{0}</p>'.format(content)\n",
    "\n",
    "@htmlize.register(numbers.Integral)\n",
    "def _(n):\n",
    "    return '<pre>{0} (0x{0:x})</pre>'.format(n)\n",
    "\n"
   ]
  },
  {
   "cell_type": "markdown",
   "metadata": {},
   "source": [
    "### Parameterized Decorators\n",
    "The idea is to use a decorator factory"
   ]
  },
  {
   "cell_type": "code",
   "execution_count": 4,
   "metadata": {},
   "outputs": [
    {
     "name": "stdout",
     "output_type": "stream",
     "text": [
      "running register(active=False)->decorate(<function f1 at 0x0000023DA4AE14E0>)\n",
      "running register(active=True)->decorate(<function f2 at 0x0000023DA4AE1440>)\n",
      "{<function f2 at 0x0000023DA4AE1440>}\n",
      "running register(active=True)->decorate(<function f3 at 0x0000023DA4A77560>)\n",
      "{<function f2 at 0x0000023DA4AE1440>, <function f3 at 0x0000023DA4A77560>}\n",
      "running register(active=False)->decorate(<function f2 at 0x0000023DA4AE1440>)\n",
      "{<function f3 at 0x0000023DA4A77560>}\n"
     ]
    }
   ],
   "source": [
    "registry = set()\n",
    "\n",
    "def register(active = True):\n",
    "    def decorate(func):\n",
    "        print('running register(active=%s)->decorate(%s)' %(active, func))\n",
    "        if active:\n",
    "            registry.add(func)\n",
    "        else:\n",
    "            registry.discard(func)\n",
    "        \n",
    "        return func\n",
    "    return decorate\n",
    "\n",
    "@register(active=False)\n",
    "def f1():\n",
    "    print('running f1()')\n",
    "\n",
    "@register()\n",
    "def f2():\n",
    "    print('running f2()')\n",
    "\n",
    "def f3():\n",
    "    print('running f3()')\n",
    "\n",
    "print(registry)\n",
    "register()(f3)\n",
    "print(registry)\n",
    "register(active=False)(f2)\n",
    "print(registry)"
   ]
  },
  {
   "cell_type": "markdown",
   "metadata": {},
   "source": [
    "### Parametrized nested decorators"
   ]
  },
  {
   "cell_type": "code",
   "execution_count": 6,
   "metadata": {},
   "outputs": [
    {
     "name": "stdout",
     "output_type": "stream",
     "text": [
      "Run time:  5.9604644775390625e-06\n",
      "Run time:  1.0004689693450928\n",
      "Run time:  2.0001108646392822\n",
      "Custom text:  1.0005719661712646\n"
     ]
    }
   ],
   "source": [
    "# Users may pass a format string to format the output of the clocked function\n",
    "\n",
    "import time\n",
    "\n",
    "\n",
    "CUSTOM_TEXT = 'Run time: '\n",
    "\n",
    "def clock(text=CUSTOM_TEXT):\n",
    "    format\n",
    "    def decorator(func):\n",
    "        def clocked(*args, **kwargs):\n",
    "            prev_time = time.time()\n",
    "            result = func(*args, **kwargs)\n",
    "            run_time = time.time() - prev_time\n",
    "            print(text, run_time)\n",
    "            return result\n",
    "        return clocked\n",
    "    return decorator\n",
    "\n",
    "@clock()\n",
    "def snooze(seconds):\n",
    "    time.sleep(seconds)\n",
    "\n",
    "for i in range(3):\n",
    "    snooze(i)\n",
    "\n",
    "@clock(\"Custom text: \")\n",
    "def custom_snooze(seconds):\n",
    "    time.sleep(seconds)\n",
    "\n",
    "custom_snooze(1)\n",
    "\n",
    "\n",
    "\n"
   ]
  },
  {
   "cell_type": "code",
   "execution_count": null,
   "metadata": {},
   "outputs": [],
   "source": []
  }
 ],
 "metadata": {
  "kernelspec": {
   "display_name": ".venv",
   "language": "python",
   "name": "python3"
  },
  "language_info": {
   "codemirror_mode": {
    "name": "ipython",
    "version": 3
   },
   "file_extension": ".py",
   "mimetype": "text/x-python",
   "name": "python",
   "nbconvert_exporter": "python",
   "pygments_lexer": "ipython3",
   "version": "3.13.2"
  }
 },
 "nbformat": 4,
 "nbformat_minor": 2
}
