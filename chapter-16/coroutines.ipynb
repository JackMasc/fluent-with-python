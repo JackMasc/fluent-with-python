{
 "cells": [
  {
   "cell_type": "markdown",
   "id": "92ff453c",
   "metadata": {},
   "source": [
    "# Coroutines"
   ]
  },
  {
   "cell_type": "code",
   "execution_count": null,
   "id": "cc5c07a2",
   "metadata": {},
   "outputs": [
    {
     "name": "stdout",
     "output_type": "stream",
     "text": [
      "<generator object simple_coroutine at 0x000001FF4FA17B50>\n",
      "croutine started\n",
      "coroutine received: 42\n"
     ]
    },
    {
     "ename": "StopIteration",
     "evalue": "",
     "output_type": "error",
     "traceback": [
      "\u001b[1;31m---------------------------------------------------------------------------\u001b[0m",
      "\u001b[1;31mStopIteration\u001b[0m                             Traceback (most recent call last)",
      "Cell \u001b[1;32mIn[19], line 11\u001b[0m\n\u001b[0;32m      9\u001b[0m \u001b[38;5;28mprint\u001b[39m(c)\n\u001b[0;32m     10\u001b[0m \u001b[38;5;28mnext\u001b[39m(c)\n\u001b[1;32m---> 11\u001b[0m \u001b[38;5;28mprint\u001b[39m(\u001b[43mc\u001b[49m\u001b[38;5;241;43m.\u001b[39;49m\u001b[43msend\u001b[49m\u001b[43m(\u001b[49m\u001b[38;5;241;43m42\u001b[39;49m\u001b[43m)\u001b[49m)\n",
      "\u001b[1;31mStopIteration\u001b[0m: "
     ]
    }
   ],
   "source": [
    "# Simple example\n",
    "\n",
    "def simple_coroutine():\n",
    "    print('croutine started')\n",
    "    x = yield\n",
    "    print('coroutine received:', x)\n",
    "\n",
    "c = simple_coroutine()\n",
    "print(c)\n",
    "next(c)\n"
   ]
  },
  {
   "cell_type": "code",
   "execution_count": 23,
   "id": "a8cab522",
   "metadata": {},
   "outputs": [
    {
     "name": "stdout",
     "output_type": "stream",
     "text": [
      "GEN_CREATED\n",
      "Started: a = 3\n",
      "3\n",
      "Received: b = 2\n",
      "5\n",
      "Received c = 5\n"
     ]
    },
    {
     "ename": "StopIteration",
     "evalue": "",
     "output_type": "error",
     "traceback": [
      "\u001b[1;31m---------------------------------------------------------------------------\u001b[0m",
      "\u001b[1;31mStopIteration\u001b[0m                             Traceback (most recent call last)",
      "Cell \u001b[1;32mIn[23], line 16\u001b[0m\n\u001b[0;32m     14\u001b[0m getgeneratorstate(c)\n\u001b[0;32m     15\u001b[0m \u001b[38;5;28mprint\u001b[39m(c\u001b[38;5;241m.\u001b[39msend(\u001b[38;5;241m2\u001b[39m))\n\u001b[1;32m---> 16\u001b[0m \u001b[43mc\u001b[49m\u001b[38;5;241;43m.\u001b[39;49m\u001b[43msend\u001b[49m\u001b[43m(\u001b[49m\u001b[38;5;241;43m5\u001b[39;49m\u001b[43m)\u001b[49m\n",
      "\u001b[1;31mStopIteration\u001b[0m: "
     ]
    }
   ],
   "source": [
    "# Another example\n",
    "\n",
    "def simple_cor(a):\n",
    "    print('Started: a =', a)\n",
    "    b = yield a\n",
    "    print('Received: b =', b)\n",
    "    c = yield a + b\n",
    "    print('Received c =', c)\n",
    "\n",
    "c = simple_cor(3)\n",
    "from inspect import getgeneratorstate\n",
    "print(getgeneratorstate(c))\n",
    "print(next(c))\n",
    "getgeneratorstate(c)\n",
    "print(c.send(2))\n",
    "c.send(5)\n"
   ]
  },
  {
   "cell_type": "markdown",
   "id": "6afe0975",
   "metadata": {},
   "source": [
    "### Running average example"
   ]
  },
  {
   "cell_type": "code",
   "execution_count": 2,
   "id": "2f9828a0",
   "metadata": {},
   "outputs": [],
   "source": [
    "def averager():\n",
    "    total = 0.0\n",
    "    count = 0\n",
    "    average = None\n",
    "    while True:\n",
    "        num = yield average\n",
    "        count += 1\n",
    "        total += num\n",
    "        average = total / count"
   ]
  },
  {
   "cell_type": "markdown",
   "id": "6083264c",
   "metadata": {},
   "source": [
    "### Automatically prime a decorator"
   ]
  },
  {
   "cell_type": "code",
   "execution_count": null,
   "id": "67aad11e",
   "metadata": {},
   "outputs": [],
   "source": [
    "# Example of priming decorator\n",
    "\n",
    "from functools import wraps\n",
    "\n",
    "def coroutine(func):\n",
    "    @wraps(func)\n",
    "    def primer(*args, **kwargs):\n",
    "        gen = func(*args, **kwargs)\n",
    "        next(gen)\n",
    "        return gen\n",
    "    return primer\n"
   ]
  },
  {
   "cell_type": "markdown",
   "id": "aac22dfc",
   "metadata": {},
   "source": [
    "## Coroutine Termination and Exception Handling"
   ]
  },
  {
   "cell_type": "code",
   "execution_count": 4,
   "id": "2c544aae",
   "metadata": {},
   "outputs": [
    {
     "ename": "TypeError",
     "evalue": "unsupported operand type(s) for +=: 'float' and 'str'",
     "output_type": "error",
     "traceback": [
      "\u001b[1;31m---------------------------------------------------------------------------\u001b[0m",
      "\u001b[1;31mTypeError\u001b[0m                                 Traceback (most recent call last)",
      "Cell \u001b[1;32mIn[4], line 4\u001b[0m\n\u001b[0;32m      2\u001b[0m \u001b[38;5;28mnext\u001b[39m(ca)\n\u001b[0;32m      3\u001b[0m ca\u001b[38;5;241m.\u001b[39msend(\u001b[38;5;241m2\u001b[39m)\n\u001b[1;32m----> 4\u001b[0m \u001b[43mca\u001b[49m\u001b[38;5;241;43m.\u001b[39;49m\u001b[43msend\u001b[49m\u001b[43m(\u001b[49m\u001b[38;5;124;43m'\u001b[39;49m\u001b[38;5;124;43mgigi\u001b[39;49m\u001b[38;5;124;43m'\u001b[39;49m\u001b[43m)\u001b[49m\n",
      "Cell \u001b[1;32mIn[2], line 8\u001b[0m, in \u001b[0;36maverager\u001b[1;34m()\u001b[0m\n\u001b[0;32m      6\u001b[0m num \u001b[38;5;241m=\u001b[39m \u001b[38;5;28;01myield\u001b[39;00m average\n\u001b[0;32m      7\u001b[0m count \u001b[38;5;241m+\u001b[39m\u001b[38;5;241m=\u001b[39m \u001b[38;5;241m1\u001b[39m\n\u001b[1;32m----> 8\u001b[0m total \u001b[38;5;241m+\u001b[39m\u001b[38;5;241m=\u001b[39m num\n\u001b[0;32m      9\u001b[0m average \u001b[38;5;241m=\u001b[39m total \u001b[38;5;241m/\u001b[39m count\n",
      "\u001b[1;31mTypeError\u001b[0m: unsupported operand type(s) for +=: 'float' and 'str'"
     ]
    }
   ],
   "source": [
    "ca = averager()\n",
    "next(ca)\n",
    "ca.send(2)\n",
    "ca.send('gigi')"
   ]
  },
  {
   "cell_type": "code",
   "execution_count": 17,
   "id": "37c57c52",
   "metadata": {},
   "outputs": [
    {
     "name": "stdout",
     "output_type": "stream",
     "text": [
      "started\n",
      "received: 13\n",
      "started\n",
      "received: 11\n",
      "Exception handled, continue\n"
     ]
    },
    {
     "ename": "ZeroDivisionError",
     "evalue": "division by zero",
     "output_type": "error",
     "traceback": [
      "\u001b[1;31m---------------------------------------------------------------------------\u001b[0m",
      "\u001b[1;31mZeroDivisionError\u001b[0m                         Traceback (most recent call last)",
      "Cell \u001b[1;32mIn[17], line 22\u001b[0m\n\u001b[0;32m     20\u001b[0m c\u001b[38;5;241m.\u001b[39msend(\u001b[38;5;241m11\u001b[39m)\n\u001b[0;32m     21\u001b[0m c\u001b[38;5;241m.\u001b[39msend(\u001b[38;5;124m'\u001b[39m\u001b[38;5;124ms\u001b[39m\u001b[38;5;124m'\u001b[39m)\n\u001b[1;32m---> 22\u001b[0m \u001b[43mc\u001b[49m\u001b[38;5;241;43m.\u001b[39;49m\u001b[43msend\u001b[49m\u001b[43m(\u001b[49m\u001b[38;5;241;43m0\u001b[39;49m\u001b[43m)\u001b[49m\n",
      "Cell \u001b[1;32mIn[17], line 6\u001b[0m, in \u001b[0;36mdemo_exc_handling\u001b[1;34m()\u001b[0m\n\u001b[0;32m      4\u001b[0m \u001b[38;5;28;01mtry\u001b[39;00m:\n\u001b[0;32m      5\u001b[0m     x \u001b[38;5;241m=\u001b[39m \u001b[38;5;28;01myield\u001b[39;00m\n\u001b[1;32m----> 6\u001b[0m     y \u001b[38;5;241m=\u001b[39m \u001b[38;5;241;43m1\u001b[39;49m\u001b[43m \u001b[49m\u001b[38;5;241;43m/\u001b[39;49m\u001b[43m \u001b[49m\u001b[43mx\u001b[49m\n\u001b[0;32m      7\u001b[0m \u001b[38;5;28;01mexcept\u001b[39;00m \u001b[38;5;167;01mTypeError\u001b[39;00m:\n\u001b[0;32m      8\u001b[0m     \u001b[38;5;28mprint\u001b[39m(\u001b[38;5;124m'\u001b[39m\u001b[38;5;124mException handled, continue\u001b[39m\u001b[38;5;124m'\u001b[39m)\n",
      "\u001b[1;31mZeroDivisionError\u001b[0m: division by zero"
     ]
    }
   ],
   "source": [
    "def demo_exc_handling():\n",
    "    print('started')\n",
    "    while True:\n",
    "        try:\n",
    "            x = yield\n",
    "            y = 1 / x\n",
    "        except TypeError:\n",
    "            print('Exception handled, continue')\n",
    "        else:\n",
    "            print('received: {!r}'.format(x))\n",
    "    raise RuntimeError('This line should never run')\n",
    "\n",
    "c = demo_exc_handling()\n",
    "next(c)\n",
    "c.send(13)\n",
    "c.close()\n",
    "\n",
    "c = demo_exc_handling()\n",
    "next(c)\n",
    "c.send(11)\n",
    "c.send('s')\n",
    "c.send(0)\n",
    "\n"
   ]
  },
  {
   "cell_type": "markdown",
   "id": "e6fcf12e",
   "metadata": {},
   "source": [
    "## Return coroutines results"
   ]
  },
  {
   "cell_type": "code",
   "execution_count": 18,
   "id": "01115745",
   "metadata": {},
   "outputs": [
    {
     "ename": "StopIteration",
     "evalue": "Result(count=2, average=6.0)",
     "output_type": "error",
     "traceback": [
      "\u001b[1;31m---------------------------------------------------------------------------\u001b[0m",
      "\u001b[1;31mStopIteration\u001b[0m                             Traceback (most recent call last)",
      "Cell \u001b[1;32mIn[18], line 22\u001b[0m\n\u001b[0;32m     20\u001b[0m c\u001b[38;5;241m.\u001b[39msend(\u001b[38;5;241m10\u001b[39m)\n\u001b[0;32m     21\u001b[0m c\u001b[38;5;241m.\u001b[39msend(\u001b[38;5;241m2\u001b[39m)\n\u001b[1;32m---> 22\u001b[0m \u001b[43mc\u001b[49m\u001b[38;5;241;43m.\u001b[39;49m\u001b[43msend\u001b[49m\u001b[43m(\u001b[49m\u001b[38;5;28;43;01mNone\u001b[39;49;00m\u001b[43m)\u001b[49m\n",
      "\u001b[1;31mStopIteration\u001b[0m: Result(count=2, average=6.0)"
     ]
    }
   ],
   "source": [
    "from collections import namedtuple\n",
    "\n",
    "Result = namedtuple('Result', 'count average')\n",
    "\n",
    "def averager():\n",
    "    total = 0.0\n",
    "    count = 0\n",
    "    average = None\n",
    "    while True:\n",
    "        term = yield\n",
    "        if term is None:\n",
    "            break\n",
    "        total += term\n",
    "        count += 1\n",
    "        average = total/count\n",
    "    return Result(count, average)\n",
    "\n",
    "c = averager()\n",
    "next(c)\n",
    "c.send(10)\n",
    "c.send(2)\n",
    "c.send(None)"
   ]
  },
  {
   "cell_type": "code",
   "execution_count": 19,
   "id": "111c05c2",
   "metadata": {},
   "outputs": [
    {
     "data": {
      "text/plain": [
       "Result(count=2, average=5.0)"
      ]
     },
     "execution_count": 19,
     "metadata": {},
     "output_type": "execute_result"
    }
   ],
   "source": [
    "c = averager()\n",
    "next(c)\n",
    "c.send(2)\n",
    "c.send(8)\n",
    "\n",
    "try:\n",
    "    c.send(None)\n",
    "except StopIteration as e:\n",
    "    result = e.value\n",
    "\n",
    "result\n"
   ]
  },
  {
   "cell_type": "markdown",
   "id": "284f6177",
   "metadata": {},
   "source": [
    "## Using yield from\n",
    "\n",
    "Completely new syntax, could be thinked as await"
   ]
  },
  {
   "cell_type": "code",
   "execution_count": 20,
   "id": "cd4876c1",
   "metadata": {},
   "outputs": [
    {
     "data": {
      "text/plain": [
       "['A', 'B', 1, 2]"
      ]
     },
     "execution_count": 20,
     "metadata": {},
     "output_type": "execute_result"
    }
   ],
   "source": [
    "def gen():\n",
    "    for c in 'AB':\n",
    "        yield c\n",
    "    for i in range(1,3):\n",
    "        yield i\n",
    "\n",
    "list(gen())"
   ]
  },
  {
   "cell_type": "code",
   "execution_count": 22,
   "id": "22b98478",
   "metadata": {},
   "outputs": [
    {
     "data": {
      "text/plain": [
       "['A', 'B', 1, 2]"
      ]
     },
     "execution_count": 22,
     "metadata": {},
     "output_type": "execute_result"
    }
   ],
   "source": [
    "def gen():\n",
    "    yield from 'AB'\n",
    "    yield from range(1,3)\n",
    "\n",
    "list(gen())"
   ]
  },
  {
   "cell_type": "code",
   "execution_count": null,
   "id": "63b53393",
   "metadata": {},
   "outputs": [],
   "source": []
  }
 ],
 "metadata": {
  "kernelspec": {
   "display_name": "nbook",
   "language": "python",
   "name": "python3"
  },
  "language_info": {
   "codemirror_mode": {
    "name": "ipython",
    "version": 3
   },
   "file_extension": ".py",
   "mimetype": "text/x-python",
   "name": "python",
   "nbconvert_exporter": "python",
   "pygments_lexer": "ipython3",
   "version": "3.10.16"
  }
 },
 "nbformat": 4,
 "nbformat_minor": 5
}
