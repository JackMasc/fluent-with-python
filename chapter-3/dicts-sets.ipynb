{
 "cells": [
  {
   "cell_type": "markdown",
   "metadata": {},
   "source": [
    "## Dicts and sets\n",
    "Dicts and sets use hashtables under the hood"
   ]
  },
  {
   "cell_type": "markdown",
   "metadata": {},
   "source": [
    "### What is hashable?\n",
    "An object is hashable if it has a hash which never changes during the object lifetime. The hashable object must implement `__hash()__` and `__eq()__`. <br>\n",
    "Hashable objects which compare equal must have the same hash. <br><br>\n",
    "\n",
    "Atomic immutable types are hashable:\n",
    "- str\n",
    "- bytes\n",
    "- numeric types\n",
    "A `frozen set` is hashable since its elements are hashable by definition. <br>\n",
    "A tuple is hashable only if its elements are all hashable."
   ]
  },
  {
   "cell_type": "markdown",
   "metadata": {},
   "source": [
    "### Dicts\n",
    "Keys of dict must be hashable <br>"
   ]
  },
  {
   "cell_type": "code",
   "execution_count": 2,
   "metadata": {},
   "outputs": [
    {
     "name": "stdout",
     "output_type": "stream",
     "text": [
      "7087858078147907433\n",
      "Error: unhashable type: 'list'\n",
      "-3125688996852041180\n"
     ]
    }
   ],
   "source": [
    "tt = (1, 3, (3, 4))\n",
    "print(hash(tt))\n",
    "tl = (1, 3, [3, 4])\n",
    "try:\n",
    "    hash(tl)\n",
    "except TypeError as e:\n",
    "    print(f\"Error: {e}\")\n",
    "tf = (1, 3, frozenset([2, 4]))\n",
    "print(hash(tf))"
   ]
  },
  {
   "cell_type": "code",
   "execution_count": 4,
   "metadata": {},
   "outputs": [
    {
     "data": {
      "text/plain": [
       "True"
      ]
     },
     "execution_count": 4,
     "metadata": {},
     "output_type": "execute_result"
    }
   ],
   "source": [
    "# Building a dict\n",
    "a = dict(one=1, two=2, three=3)\n",
    "b = {\"one\": 1, \"two\": 2, \"three\": 3}\n",
    "c = dict(zip([\"one\", \"two\", \"three\"], [1, 2, 3]))\n",
    "d = dict([(\"two\", 2), (\"one\", 1), (\"three\", 3)])\n",
    "e = dict({\"three\": 3, \"one\": 1, \"two\": 2})\n",
    "a == b == c == d == e"
   ]
  },
  {
   "cell_type": "markdown",
   "metadata": {},
   "source": [
    "#### dict comprehensions"
   ]
  },
  {
   "cell_type": "code",
   "execution_count": 6,
   "metadata": {},
   "outputs": [
    {
     "data": {
      "text/plain": [
       "{'China': 86, 'India': 91, 'United States': 1, 'Indonesia': 62, 'Brazil': 55}"
      ]
     },
     "execution_count": 6,
     "metadata": {},
     "output_type": "execute_result"
    }
   ],
   "source": [
    "DIAL_CODES = [\n",
    "    (86, \"China\"),\n",
    "    (91, \"India\"),\n",
    "    (1, \"United States\"),\n",
    "    (62, \"Indonesia\"),\n",
    "    (55, \"Brazil\"),\n",
    "]\n",
    "country_code = {country: code for code, country in DIAL_CODES}\n",
    "country_code"
   ]
  },
  {
   "cell_type": "markdown",
   "metadata": {},
   "source": [
    "#### Handling missing keys"
   ]
  },
  {
   "cell_type": "code",
   "execution_count": 10,
   "metadata": {},
   "outputs": [
    {
     "name": "stdout",
     "output_type": "stream",
     "text": [
      "{'C': [(6, 1)], 'i': [(7, 1), (22, 1), (63, 1)], 'a': [(8, 1), (17, 1), (30, 1), (35, 1), (66, 1), (68, 1)], 'o': [(9, 1), (13, 1), (15, 1), (33, 1), (64, 1)], 'p': [(11, 1), (41, 1)], 'r': [(12, 1), (21, 1), (25, 1), (43, 1), (49, 1)], 'v': [(14, 1), (23, 1), (45, 1)], 's': [(19, 1), (34, 1), (52, 1), (74, 1)], 'c': [(20, 1), (32, 1), (70, 1)], 'e': [(24, 1), (26, 1), (42, 1), (46, 1), (48, 1), (50, 1), (53, 1), (72, 1), (75, 1)], 'q': [(28, 1)], 'u': [(29, 1), (60, 1)], 'l': [(31, 1)], 'd': [(47, 1)], 'f': [(59, 1)], 'n': [(61, 1), (65, 1), (69, 1)], 'z': [(62, 1)], 'h': [(71, 1)]}\n"
     ]
    }
   ],
   "source": [
    "# Using setdefault method\n",
    "\n",
    "import re\n",
    "\n",
    "WORD_RE = re.compile(r\"\\w+\")\n",
    "\n",
    "index = {}\n",
    "\n",
    "fp = \"\"\"\n",
    "    Ciao provo a scrivere qualcosa\n",
    "    per vedere se\n",
    "    funziona anche se\n",
    "\"\"\"\n",
    "\n",
    "for line_no, line in enumerate(fp, 1):\n",
    "    for match in WORD_RE.finditer(line):\n",
    "        word = match.group()\n",
    "        column_no = match.start() + 1\n",
    "        location = (line_no, column_no)\n",
    "        index.setdefault(word, []).append(location)\n",
    "\n",
    "print(index)"
   ]
  },
  {
   "cell_type": "code",
   "execution_count": 12,
   "metadata": {},
   "outputs": [
    {
     "name": "stdout",
     "output_type": "stream",
     "text": [
      "a [(8, 1), (17, 1), (30, 1), (35, 1), (66, 1), (68, 1)]\n",
      "C [(6, 1)]\n",
      "c [(20, 1), (32, 1), (70, 1)]\n",
      "d [(47, 1)]\n",
      "e [(24, 1), (26, 1), (42, 1), (46, 1), (48, 1), (50, 1), (53, 1), (72, 1), (75, 1)]\n",
      "f [(59, 1)]\n",
      "h [(71, 1)]\n",
      "i [(7, 1), (22, 1), (63, 1)]\n",
      "l [(31, 1)]\n",
      "n [(61, 1), (65, 1), (69, 1)]\n",
      "o [(9, 1), (13, 1), (15, 1), (33, 1), (64, 1)]\n",
      "p [(11, 1), (41, 1)]\n",
      "q [(28, 1)]\n",
      "r [(12, 1), (21, 1), (25, 1), (43, 1), (49, 1)]\n",
      "s [(19, 1), (34, 1), (52, 1), (74, 1)]\n",
      "u [(29, 1), (60, 1)]\n",
      "v [(14, 1), (23, 1), (45, 1)]\n",
      "z [(62, 1)]\n"
     ]
    }
   ],
   "source": [
    "# Using collections.defaultdict\n",
    "# Default dicts are configured to create items on demand whenever a missing key is searched\n",
    "\n",
    "import re\n",
    "import collections\n",
    "\n",
    "WORD_RE = re.compile(r\"\\w+\")\n",
    "\n",
    "index = collections.defaultdict(list)\n",
    "\n",
    "fp = \"\"\"\n",
    "    Ciao provo a scrivere qualcosa\n",
    "    per vedere se\n",
    "    funziona anche se\n",
    "\"\"\"\n",
    "\n",
    "for line_no, line in enumerate(fp, 1):\n",
    "    for match in WORD_RE.finditer(line):\n",
    "        word = match.group()\n",
    "        column_no = match.start() + 1\n",
    "        location = (line_no, column_no)\n",
    "        index[word].append(location)\n",
    "\n",
    "for word in sorted(index, key=str.upper):\n",
    "    print(word, index[word])"
   ]
  },
  {
   "cell_type": "markdown",
   "metadata": {},
   "source": [
    "The `__missing__` method can be used as well, the `__getitem__` looks for it when it can not find a key. <br>\n",
    "It is better to subclass `collections.UserDict` instead of dict."
   ]
  },
  {
   "cell_type": "markdown",
   "metadata": {},
   "source": [
    "#### Variations of dict"
   ]
  },
  {
   "cell_type": "markdown",
   "metadata": {},
   "source": [
    "Counter"
   ]
  },
  {
   "cell_type": "code",
   "execution_count": 2,
   "metadata": {},
   "outputs": [
    {
     "name": "stdout",
     "output_type": "stream",
     "text": [
      "Counter({'a': 5, 'b': 2, 'r': 2, 'c': 1, 'd': 1})\n"
     ]
    },
    {
     "data": {
      "text/plain": [
       "[('a', 9), ('z', 3)]"
      ]
     },
     "execution_count": 2,
     "metadata": {},
     "output_type": "execute_result"
    }
   ],
   "source": [
    "# collections.Counter\n",
    "import collections\n",
    "\n",
    "ct = collections.Counter(\"abracadabra\")\n",
    "print(ct)\n",
    "ct.update(\"aaaazzz\")\n",
    "ct.most_common(2)"
   ]
  },
  {
   "cell_type": "markdown",
   "metadata": {},
   "source": [
    "#### UserDict\n",
    "collections.UserDict <br>\n",
    "It works as a standard dict but it is designed to be subclassed. <br>\n",
    "This is because the builtin dict has some shortcuts in the implementation."
   ]
  },
  {
   "cell_type": "code",
   "execution_count": null,
   "metadata": {},
   "outputs": [],
   "source": [
    "# Example: StrKeyDict stores all non-string keys as str\n",
    "import collections\n",
    "\n",
    "\n",
    "class StrKeyDict(collections.UserDict):\n",
    "\n",
    "    def __missing__(self, key):\n",
    "        if isinstance(key, str):\n",
    "            raise KeyError(key)\n",
    "        return self[str(key)]\n",
    "\n",
    "    def __contains__(self, key):\n",
    "        return str(key) in self.data\n",
    "\n",
    "    def __setitem__(self, key, item):\n",
    "        self.data[str(key)] = item"
   ]
  },
  {
   "cell_type": "markdown",
   "metadata": {},
   "source": [
    "### Immutable Mappings"
   ]
  },
  {
   "cell_type": "code",
   "execution_count": 4,
   "metadata": {},
   "outputs": [
    {
     "name": "stdout",
     "output_type": "stream",
     "text": [
      "{1: 'A'}\n",
      "{1: 'Z'}\n"
     ]
    },
    {
     "ename": "TypeError",
     "evalue": "'mappingproxy' object does not support item assignment",
     "output_type": "error",
     "traceback": [
      "\u001b[1;31m---------------------------------------------------------------------------\u001b[0m",
      "\u001b[1;31mTypeError\u001b[0m                                 Traceback (most recent call last)",
      "Cell \u001b[1;32mIn[4], line 10\u001b[0m\n\u001b[0;32m      8\u001b[0m d[\u001b[38;5;241m1\u001b[39m] \u001b[38;5;241m=\u001b[39m \u001b[38;5;124m'\u001b[39m\u001b[38;5;124mZ\u001b[39m\u001b[38;5;124m'\u001b[39m\n\u001b[0;32m      9\u001b[0m \u001b[38;5;28mprint\u001b[39m(d_proxy)\n\u001b[1;32m---> 10\u001b[0m \u001b[43md_proxy\u001b[49m\u001b[43m[\u001b[49m\u001b[38;5;241;43m2\u001b[39;49m\u001b[43m]\u001b[49m \u001b[38;5;241m=\u001b[39m \u001b[38;5;124m\"\u001b[39m\u001b[38;5;124mx\u001b[39m\u001b[38;5;124m\"\u001b[39m\n",
      "\u001b[1;31mTypeError\u001b[0m: 'mappingproxy' object does not support item assignment"
     ]
    }
   ],
   "source": [
    "# Example: read only mapping MappingProxyType\n",
    "\n",
    "from types import MappingProxyType\n",
    "\n",
    "d = {1: \"A\"}\n",
    "d_proxy = MappingProxyType(d)\n",
    "print(d_proxy)\n",
    "d[1] = \"Z\"\n",
    "print(d_proxy)\n",
    "d_proxy[2] = \"x\""
   ]
  },
  {
   "cell_type": "markdown",
   "metadata": {},
   "source": [
    "## Sets\n",
    "A set is a collection of unique objects. <br>\n",
    "Set elements must be hashable. <br>\n",
    "The `set` type is not hashable, the `frozenset` type is hashable instead."
   ]
  },
  {
   "cell_type": "code",
   "execution_count": 1,
   "metadata": {},
   "outputs": [
    {
     "name": "stdout",
     "output_type": "stream",
     "text": [
      "{'spam', 'eggs'}\n"
     ]
    },
    {
     "data": {
      "text/plain": [
       "['spam', 'eggs']"
      ]
     },
     "execution_count": 1,
     "metadata": {},
     "output_type": "execute_result"
    }
   ],
   "source": [
    "# Example: remove duplication\n",
    "l = [\"spam\", \"spam\", \"eggs\"]\n",
    "print(set(l))\n",
    "list(set(l))"
   ]
  },
  {
   "cell_type": "markdown",
   "metadata": {},
   "source": [
    "Sets supports infix operators:\n",
    "- a | b --> union\n",
    "- a & b --> intersection\n",
    "- a - b --> difference"
   ]
  },
  {
   "cell_type": "code",
   "execution_count": 2,
   "metadata": {},
   "outputs": [
    {
     "name": "stdout",
     "output_type": "stream",
     "text": [
      "<class 'set'>\n",
      "{1}\n",
      "set()\n"
     ]
    }
   ],
   "source": [
    "# Empty set: set()\n",
    "\n",
    "s = {1}\n",
    "print(type(s))\n",
    "print(s)\n",
    "s.pop()\n",
    "print(s)"
   ]
  },
  {
   "cell_type": "code",
   "execution_count": 3,
   "metadata": {},
   "outputs": [
    {
     "name": "stdout",
     "output_type": "stream",
     "text": [
      "  0           RESUME                   0\n",
      "\n",
      "  1           LOAD_CONST               0 (1)\n",
      "              BUILD_SET                1\n",
      "              RETURN_VALUE\n",
      "  0           RESUME                   0\n",
      "\n",
      "  1           LOAD_NAME                0 (set)\n",
      "              PUSH_NULL\n",
      "              LOAD_CONST               0 (1)\n",
      "              BUILD_LIST               1\n",
      "              CALL                     1\n",
      "              RETURN_VALUE\n"
     ]
    }
   ],
   "source": [
    "# Literal syntax is faster\n",
    "from dis import dis\n",
    "\n",
    "dis(\"{1}\")\n",
    "dis(\"set([1])\")"
   ]
  },
  {
   "cell_type": "code",
   "execution_count": 4,
   "metadata": {},
   "outputs": [
    {
     "data": {
      "text/plain": [
       "frozenset({0, 1, 2, 3, 4, 5, 6, 7, 8, 9})"
      ]
     },
     "execution_count": 4,
     "metadata": {},
     "output_type": "execute_result"
    }
   ],
   "source": [
    "# Frozenset syntax\n",
    "frozenset(range(10))"
   ]
  },
  {
   "cell_type": "code",
   "execution_count": 5,
   "metadata": {},
   "outputs": [
    {
     "data": {
      "text/plain": [
       "{'#',\n",
       " '$',\n",
       " '%',\n",
       " '+',\n",
       " '<',\n",
       " '=',\n",
       " '>',\n",
       " '¢',\n",
       " '£',\n",
       " '¤',\n",
       " '¥',\n",
       " '§',\n",
       " '©',\n",
       " '¬',\n",
       " '®',\n",
       " '°',\n",
       " '±',\n",
       " 'µ',\n",
       " '¶',\n",
       " '×',\n",
       " '÷'}"
      ]
     },
     "execution_count": 5,
     "metadata": {},
     "output_type": "execute_result"
    }
   ],
   "source": [
    "# Set Comprehensions\n",
    "\n",
    "from unicodedata import name\n",
    "\n",
    "{chr(i) for i in range(32, 256) if \"SIGN\" in name(chr(i), \"\")}"
   ]
  },
  {
   "cell_type": "markdown",
   "metadata": {},
   "source": [
    "### Set operations\n",
    "Check fluent python book"
   ]
  },
  {
   "cell_type": "markdown",
   "metadata": {},
   "source": [
    "## Dict and set under the hood\n",
    "Check fluent python"
   ]
  },
  {
   "cell_type": "markdown",
   "metadata": {},
   "source": [
    "### Hash tables in dictionaries\n",
    "Check fluent python"
   ]
  },
  {
   "cell_type": "code",
   "execution_count": 1,
   "metadata": {},
   "outputs": [
    {
     "name": "stdout",
     "output_type": "stream",
     "text": [
      "d1: dict_keys([86, 91, 1])\n",
      "d2: dict_keys([1, 86, 91])\n",
      "d3: dict_keys([86, 91, 1])\n"
     ]
    }
   ],
   "source": [
    "# Key ordering depends on insertion order\n",
    "\n",
    "DIAL_CODES = [(86, \"China\"), (91, \"India\"), (1, \"United States\")]\n",
    "\n",
    "d1 = dict(DIAL_CODES)\n",
    "print('d1:', d1.keys())\n",
    "d2 = dict(sorted(DIAL_CODES))\n",
    "print('d2:', d2.keys())\n",
    "d3 = dict(sorted(DIAL_CODES, key=lambda x:x[1]))\n",
    "print('d3:', d3.keys())\n",
    "assert d1 == d2 and d2 == d3"
   ]
  },
  {
   "cell_type": "code",
   "execution_count": null,
   "metadata": {},
   "outputs": [],
   "source": []
  }
 ],
 "metadata": {
  "kernelspec": {
   "display_name": ".venv",
   "language": "python",
   "name": "python3"
  },
  "language_info": {
   "codemirror_mode": {
    "name": "ipython",
    "version": 3
   },
   "file_extension": ".py",
   "mimetype": "text/x-python",
   "name": "python",
   "nbconvert_exporter": "python",
   "pygments_lexer": "ipython3",
   "version": "3.13.2"
  }
 },
 "nbformat": 4,
 "nbformat_minor": 2
}
