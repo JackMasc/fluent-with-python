{
 "cells": [
  {
   "cell_type": "markdown",
   "id": "f215abf9",
   "metadata": {},
   "source": [
    "# Iterables iterators and generators"
   ]
  },
  {
   "cell_type": "code",
   "execution_count": 3,
   "id": "27927c39",
   "metadata": {},
   "outputs": [
    {
     "data": {
      "text/plain": [
       "'god'"
      ]
     },
     "execution_count": 3,
     "metadata": {},
     "output_type": "execute_result"
    }
   ],
   "source": [
    "import re\n",
    "import reprlib\n",
    "\n",
    "RE_WORD = re.compile('\\w+')\n",
    "\n",
    "class Sentence:\n",
    "\n",
    "    def __init__(self, text):\n",
    "        self.text = text\n",
    "        self.words = RE_WORD.findall(text)\n",
    "\n",
    "    def __len__(self):\n",
    "        return len(self.words)\n",
    "\n",
    "    def __getitem__(self, index):\n",
    "        return self.words[index]\n",
    "    \n",
    "    def __repr__(self):\n",
    "        return f\"Sentence({self.text})\"\n",
    "\n",
    "\n",
    "sentence = Sentence(\"Oh my god!\")\n",
    "sentence[2]"
   ]
  },
  {
   "cell_type": "code",
   "execution_count": 5,
   "id": "d9e9f935",
   "metadata": {},
   "outputs": [
    {
     "name": "stdout",
     "output_type": "stream",
     "text": [
      "True\n"
     ]
    },
    {
     "data": {
      "text/plain": [
       "True"
      ]
     },
     "execution_count": 5,
     "metadata": {},
     "output_type": "execute_result"
    }
   ],
   "source": [
    "# Example of Geese can behave as Ducks\n",
    "\n",
    "class Foo:\n",
    "    def __iter__(self):\n",
    "        pass\n",
    "\n",
    "from collections import abc\n",
    "print(issubclass(Foo, abc.Iterable))\n",
    "f = Foo()\n",
    "isinstance(f, abc.Iterable)"
   ]
  },
  {
   "cell_type": "markdown",
   "id": "4904949a",
   "metadata": {},
   "source": [
    "## Iterables vs Iterators\n",
    "- __iterable__: Any object from which the iter built-in function can obtain an iterator\n",
    "- __iterator__: Python obtains them from iterables. Any object that implements the `__next__` method (and the `__iter__` method)"
   ]
  },
  {
   "cell_type": "code",
   "execution_count": 6,
   "id": "4e7ce626",
   "metadata": {},
   "outputs": [
    {
     "name": "stdout",
     "output_type": "stream",
     "text": [
      "A\n",
      "B\n",
      "C\n"
     ]
    }
   ],
   "source": [
    "# Example: an iterable s\n",
    "s = 'ABC'\n",
    "for char in s:\n",
    "    print(char)"
   ]
  },
  {
   "cell_type": "code",
   "execution_count": null,
   "id": "10c82d95",
   "metadata": {},
   "outputs": [
    {
     "name": "stdout",
     "output_type": "stream",
     "text": [
      "A\n",
      "B\n",
      "C\n"
     ]
    }
   ],
   "source": [
    "# What we would have to code if there was no for loop in python\n",
    "\n",
    "s = 'ABC'\n",
    "it = iter(s) # build\n",
    "while True:\n",
    "    try:\n",
    "        print(next(it))\n",
    "    except StopIteration:\n",
    "        del it\n",
    "        break"
   ]
  },
  {
   "cell_type": "markdown",
   "id": "f030c4ed",
   "metadata": {},
   "source": [
    "`StopIteration` is handled internally in for loops, comprehensions, tuble unpacking, etc."
   ]
  },
  {
   "cell_type": "markdown",
   "id": "200c8672",
   "metadata": {},
   "source": [
    "## Interface of an iterator\n",
    "Two methods:\n",
    "- `__next__`: returns the next available item\n",
    "- `__iter__`: returns `self`, this allows iterators to be used where an iterable is expected, for example in a for loop"
   ]
  },
  {
   "cell_type": "code",
   "execution_count": 8,
   "id": "395a1be4",
   "metadata": {},
   "outputs": [
    {
     "name": "stdout",
     "output_type": "stream",
     "text": [
      "<iterator object at 0x0000026B514FFB20>\n",
      "Pig\n",
      "and\n",
      "['Pepper']\n",
      "['Pig', 'and', 'Pepper']\n"
     ]
    }
   ],
   "source": [
    "# Example of working of iterable and iterator\n",
    "\n",
    "s3 = Sentence('Pig and Pepper')\n",
    "it = iter(s3)\n",
    "print(it)\n",
    "print(next(it))\n",
    "print(next(it))\n",
    "print(list(it))\n",
    "print(list(iter(s3)))"
   ]
  },
  {
   "cell_type": "markdown",
   "id": "f682350e",
   "metadata": {},
   "source": [
    "### Relation between iterable and iterator, implement a classic iterator"
   ]
  },
  {
   "cell_type": "code",
   "execution_count": null,
   "id": "fdd92e47",
   "metadata": {},
   "outputs": [],
   "source": [
    "# Sentence class implemented using the iterator pattern\n",
    "\n",
    "import re\n",
    "import reprlib\n",
    "\n",
    "RE_WORD = re.compile('\\w+')\n",
    "\n",
    "class Sentence:\n",
    "    def __init__(self, text):\n",
    "        self.text = text\n",
    "        self.words = RE_WORD.findall(text)\n",
    "    \n",
    "    def __repr__(self):\n",
    "        return f\"Sentence({self.text})\"\n",
    "    \n",
    "    def __iter__(self):\n",
    "        return SentenceIterator(self.words)\n",
    "    \n",
    "\n",
    "class SentenceIterator:\n",
    "    def __init__(self, words):\n",
    "        self.words = words\n",
    "        self.index = 0\n",
    "    \n",
    "    def __next__(self):\n",
    "        try:\n",
    "            word = self.words[self.index]\n",
    "        except IndexError:\n",
    "            raise StopIteration()\n",
    "        self.index += 1\n",
    "        return word\n",
    "\n",
    "    def __iter__(self):\n",
    "        return self"
   ]
  },
  {
   "cell_type": "markdown",
   "id": "6795bb80",
   "metadata": {},
   "source": [
    "## Generator function\n",
    "\n",
    "A generator function is a function that has the `yield` keyword and when called it returns a generator object. In other words a generator function is a generator factory."
   ]
  },
  {
   "cell_type": "code",
   "execution_count": null,
   "id": "427f0c11",
   "metadata": {},
   "outputs": [],
   "source": [
    "# Use generator function instead of iterator class\n",
    "\n",
    "import re\n",
    "import reprlib\n",
    "\n",
    "RE_WORD = re.compile('\\w+')\n",
    "\n",
    "class Sentence:\n",
    "    def __init__(self, text):\n",
    "         self.text = text\n",
    "         self.words = RE_WORD.findall(text)\n",
    "\n",
    "    def __repr__(self):\n",
    "        return 'Sentence(%s)' % reprlib.repr(self.text)\n",
    "    \n",
    "    def __iter__(self):\n",
    "        for word in self.words:\n",
    "            yield word\n",
    "        return"
   ]
  },
  {
   "cell_type": "code",
   "execution_count": 1,
   "id": "50998ab9",
   "metadata": {},
   "outputs": [
    {
     "name": "stdout",
     "output_type": "stream",
     "text": [
      "<function gen_123 at 0x00000189A2703640>\n",
      "<generator object gen_123 at 0x00000189A28278B0>\n",
      "1\n",
      "2\n",
      "3\n",
      "1\n",
      "2\n",
      "3\n"
     ]
    },
    {
     "ename": "StopIteration",
     "evalue": "",
     "output_type": "error",
     "traceback": [
      "\u001b[1;31m---------------------------------------------------------------------------\u001b[0m",
      "\u001b[1;31mStopIteration\u001b[0m                             Traceback (most recent call last)",
      "Cell \u001b[1;32mIn[1], line 18\u001b[0m\n\u001b[0;32m     16\u001b[0m \u001b[38;5;28mprint\u001b[39m(\u001b[38;5;28mnext\u001b[39m(g))\n\u001b[0;32m     17\u001b[0m \u001b[38;5;28mprint\u001b[39m(\u001b[38;5;28mnext\u001b[39m(g))\n\u001b[1;32m---> 18\u001b[0m \u001b[38;5;28mprint\u001b[39m(\u001b[38;5;28;43mnext\u001b[39;49m\u001b[43m(\u001b[49m\u001b[43mg\u001b[49m\u001b[43m)\u001b[49m)\n",
      "\u001b[1;31mStopIteration\u001b[0m: "
     ]
    }
   ],
   "source": [
    "# Example of a generator\n",
    "\n",
    "def gen_123():\n",
    "    yield 1\n",
    "    yield 2\n",
    "    yield 3\n",
    "\n",
    "print(gen_123)\n",
    "print(gen_123())\n",
    "for i in gen_123():\n",
    "    print(i)\n",
    "\n",
    "g = gen_123()\n",
    "\n",
    "print(next(g))\n",
    "print(next(g))\n",
    "print(next(g))\n",
    "print(next(g))\n"
   ]
  },
  {
   "cell_type": "code",
   "execution_count": 2,
   "id": "46b8b3ec",
   "metadata": {},
   "outputs": [
    {
     "name": "stdout",
     "output_type": "stream",
     "text": [
      "start\n",
      "--> A\n",
      "continue\n",
      "--> B\n",
      "end.\n"
     ]
    }
   ],
   "source": [
    "# Another generator example\n",
    "\n",
    "def gen_AB():\n",
    "    print(\"start\")\n",
    "    yield 'A'\n",
    "    print('continue')\n",
    "    yield 'B'\n",
    "    print('end.')\n",
    "\n",
    "for c in gen_AB():\n",
    "    print('-->', c)"
   ]
  },
  {
   "cell_type": "markdown",
   "id": "8c8507b8",
   "metadata": {},
   "source": [
    "## Sentence, a lazy implementation"
   ]
  },
  {
   "cell_type": "code",
   "execution_count": null,
   "id": "71f7b7e9",
   "metadata": {},
   "outputs": [],
   "source": [
    "# Lazy implementation using re.finditer generator function\n",
    "\n",
    "class Sentence:\n",
    "    def __init__(self, text):\n",
    "        self.text = text\n",
    "    \n",
    "    def __repr__(self):\n",
    "        return 'Sentence(%s)' % reprlib.repr(self.text)\n",
    "    \n",
    "    def __iter__(self):\n",
    "        for match in RE_WORD.finditer(self.text):\n",
    "            yield match.group()"
   ]
  },
  {
   "cell_type": "markdown",
   "id": "250de23f",
   "metadata": {},
   "source": [
    "## Generator expressions\n",
    "A generator expression can be intuitively thought of as a lazy version of comprehension"
   ]
  },
  {
   "cell_type": "code",
   "execution_count": 3,
   "id": "c3242fa2",
   "metadata": {},
   "outputs": [
    {
     "name": "stdout",
     "output_type": "stream",
     "text": [
      "start\n",
      "continue\n",
      "end\n",
      "--> AAA\n",
      "--> BBB\n",
      "start\n",
      "--> AAA\n",
      "continue\n",
      "--> BBB\n",
      "end\n"
     ]
    }
   ],
   "source": [
    "# Example of generator expression vs comprehension\n",
    "\n",
    "def gen_AB():\n",
    "    print('start')\n",
    "    yield 'A'\n",
    "    print('continue')\n",
    "    yield 'B'\n",
    "    print('end')\n",
    "\n",
    "res1 = [x*3 for x in gen_AB()]\n",
    "\n",
    "for i in res1:\n",
    "    print('-->', i)\n",
    "\n",
    "res2 = (x*3 for x in gen_AB())\n",
    "\n",
    "for i in res2:\n",
    "    print('-->', i)"
   ]
  },
  {
   "cell_type": "code",
   "execution_count": null,
   "id": "8b953e0c",
   "metadata": {},
   "outputs": [],
   "source": [
    "class Sentence:\n",
    "    def __init__(self, text):\n",
    "        self.text = text\n",
    "\n",
    "    def __repr__(self):\n",
    "        return 'Sentence(%s)' % reprlib.repr(self.text)\n",
    "    \n",
    "    def __iter__(self):\n",
    "        return (match.group() for match in RE_WORD.finditer(self.text))"
   ]
  },
  {
   "cell_type": "markdown",
   "id": "afb7af33",
   "metadata": {},
   "source": [
    "## When to use generator expressions\n",
    "When it makes sense ahaha"
   ]
  },
  {
   "cell_type": "markdown",
   "id": "bedaa5cc",
   "metadata": {},
   "source": [
    "## Arithmetic progression generator"
   ]
  },
  {
   "cell_type": "code",
   "execution_count": null,
   "id": "2a339856",
   "metadata": {},
   "outputs": [],
   "source": [
    "class AritmeticProgression:\n",
    "    def __init__(self, begin, step, end=None):\n",
    "        self.begin = begin\n",
    "        self.step = step\n",
    "        self.end = end\n",
    "\n",
    "    def __iter__(self):\n",
    "        result = type(self.begin + self.step)(self.begin)\n",
    "        forever = self.end is None\n",
    "        index = 0\n",
    "        while forever or result < self.end:\n",
    "            yield result\n",
    "            index += 1\n",
    "            result = self.begin + self.step * index"
   ]
  },
  {
   "cell_type": "markdown",
   "id": "5ae9bbbc",
   "metadata": {},
   "source": [
    "If the whole point of a class is to create a generator, then it is a good idea to simply create a generator function"
   ]
  },
  {
   "cell_type": "code",
   "execution_count": null,
   "id": "6bf2981b",
   "metadata": {},
   "outputs": [],
   "source": [
    "def gen_arp(self, begin, step, end=None):\n",
    "    result = type(begin + step)(begin)\n",
    "    forever = end is None\n",
    "    index = 0\n",
    "    while forever or result < self.end:\n",
    "        yield result\n",
    "        index += 1\n",
    "        result = begin + step * index"
   ]
  },
  {
   "cell_type": "markdown",
   "id": "c6e94648",
   "metadata": {},
   "source": [
    "## Arithmetic progression with itertools\n",
    "There are plenty of ready to use generators in the standard library."
   ]
  },
  {
   "cell_type": "markdown",
   "id": "0d6f1a95",
   "metadata": {},
   "source": [
    "## Generator functions in the standard library"
   ]
  },
  {
   "cell_type": "markdown",
   "id": "e456a3a2",
   "metadata": {},
   "source": [
    "## Iter function trick"
   ]
  },
  {
   "cell_type": "code",
   "execution_count": 5,
   "id": "0a206dd4",
   "metadata": {},
   "outputs": [
    {
     "name": "stdout",
     "output_type": "stream",
     "text": [
      "<callable_iterator object at 0x0000013B8D5C5840>\n",
      "2\n",
      "5\n",
      "3\n"
     ]
    }
   ],
   "source": [
    "import random\n",
    "\n",
    "def d6():\n",
    "    return random.randint(1, 6)\n",
    "\n",
    "d6_iter = iter(d6, 1)\n",
    "print(d6_iter)\n",
    "for roll in d6_iter:\n",
    "    print(roll)"
   ]
  },
  {
   "cell_type": "code",
   "execution_count": null,
   "id": "eecacff7",
   "metadata": {},
   "outputs": [],
   "source": []
  }
 ],
 "metadata": {
  "kernelspec": {
   "display_name": "nbook",
   "language": "python",
   "name": "python3"
  },
  "language_info": {
   "codemirror_mode": {
    "name": "ipython",
    "version": 3
   },
   "file_extension": ".py",
   "mimetype": "text/x-python",
   "name": "python",
   "nbconvert_exporter": "python",
   "pygments_lexer": "ipython3",
   "version": "3.10.16"
  }
 },
 "nbformat": 4,
 "nbformat_minor": 5
}
