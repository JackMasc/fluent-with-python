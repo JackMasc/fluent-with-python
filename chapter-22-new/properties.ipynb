{
 "cells": [
  {
   "cell_type": "markdown",
   "id": "fcc33e83",
   "metadata": {},
   "source": [
    "# Properties"
   ]
  },
  {
   "cell_type": "markdown",
   "id": "eb407c4d",
   "metadata": {},
   "source": [
    "Data driven attribute creation"
   ]
  },
  {
   "cell_type": "code",
   "execution_count": null,
   "id": "7edf7f5b",
   "metadata": {},
   "outputs": [],
   "source": [
    "import json\n",
    "\n",
    "JSON_PATH = 'data.json'\n",
    "\n",
    "class Record:\n",
    "    def __init__(self, **kwargs):\n",
    "        self.__dict__.update(kwargs)\n",
    "\n",
    "    def __repr__(self):\n",
    "        return f'<{self.__class__.__name__} serial={self.serial!r}>'\n",
    "\n",
    "    @staticmethod\n",
    "    def fetch(key):\n",
    "        if Record.__index is None:\n",
    "            Record.__index = load()\n",
    "        return Record.__index[key]\n",
    "\n",
    "\n",
    "class Event(Record):\n",
    "\n",
    "    def __repr__(self):\n",
    "        try:\n",
    "            return f'<{self.__class__.__name__} {self.name!r}>'\n",
    "        except AttributeError:\n",
    "            return super().__repr__()\n",
    "\n",
    "    @property\n",
    "    def venue(self):\n",
    "        key = f'venue.{self.venue_serial}'\n",
    "        return self.__class__.fetch(key)\n",
    "\n",
    "    \n",
    "def load(path=JSON_PATH):\n",
    "    records = {}\n",
    "    with open(path) as fp:\n",
    "        raw_data = json.load(fp)\n",
    "    for collection, raw_records in raw_data['Schedule'].items():\n",
    "        record_type = collection[:-1]\n",
    "        cls_name = record_type.capitalize()\n",
    "        cls = globals().get(cls_name, Record)\n",
    "        if inspect.isclasss(cls) and issubclass(cls, Record):\n",
    "            factory = cls\n",
    "        else:\n",
    "            factory = Record\n",
    "        for raw_record in raw_records:\n",
    "            key = f'{record_type}.{raw_record[\"serial\"]}'\n",
    "            records[key] = factory(**raw_record)\n",
    "    return records"
   ]
  },
  {
   "cell_type": "markdown",
   "id": "0fa5f890",
   "metadata": {},
   "source": [
    "Property to retrieve a linked record"
   ]
  },
  {
   "cell_type": "markdown",
   "id": "bed943d0",
   "metadata": {},
   "source": [
    "Property overriding an existing attribute"
   ]
  },
  {
   "cell_type": "markdown",
   "id": "87d15c67",
   "metadata": {},
   "source": [
    "### Caching properties with functools"
   ]
  },
  {
   "cell_type": "markdown",
   "id": "b07cf8c8",
   "metadata": {},
   "source": [
    "### Using a property for attribute validation"
   ]
  },
  {
   "cell_type": "markdown",
   "id": "7040173a",
   "metadata": {},
   "source": [
    "We can use a property in place of a getter and a setter without changing the class interface."
   ]
  },
  {
   "cell_type": "code",
   "execution_count": 12,
   "id": "b1bfc51e",
   "metadata": {},
   "outputs": [
    {
     "ename": "ValueError",
     "evalue": "value must be > 0",
     "output_type": "error",
     "traceback": [
      "\u001b[1;31m---------------------------------------------------------------------------\u001b[0m",
      "\u001b[1;31mValueError\u001b[0m                                Traceback (most recent call last)",
      "Cell \u001b[1;32mIn[12], line 21\u001b[0m\n\u001b[0;32m     18\u001b[0m         \u001b[38;5;28;01melse\u001b[39;00m:\n\u001b[0;32m     19\u001b[0m             \u001b[38;5;28;01mraise\u001b[39;00m \u001b[38;5;167;01mValueError\u001b[39;00m(\u001b[38;5;124m'\u001b[39m\u001b[38;5;124mvalue must be > 0\u001b[39m\u001b[38;5;124m'\u001b[39m)\n\u001b[1;32m---> 21\u001b[0m walnuts \u001b[38;5;241m=\u001b[39m \u001b[43mLineItem\u001b[49m\u001b[43m(\u001b[49m\u001b[38;5;124;43m'\u001b[39;49m\u001b[38;5;124;43mwalnuts\u001b[39;49m\u001b[38;5;124;43m'\u001b[39;49m\u001b[43m,\u001b[49m\u001b[43m \u001b[49m\u001b[38;5;241;43m0\u001b[39;49m\u001b[43m,\u001b[49m\u001b[43m \u001b[49m\u001b[38;5;241;43m10\u001b[39;49m\u001b[43m)\u001b[49m\n",
      "Cell \u001b[1;32mIn[12], line 4\u001b[0m, in \u001b[0;36mLineItem.__init__\u001b[1;34m(self, description, weight, price)\u001b[0m\n\u001b[0;32m      2\u001b[0m \u001b[38;5;28;01mdef\u001b[39;00m\u001b[38;5;250m \u001b[39m\u001b[38;5;21m__init__\u001b[39m(\u001b[38;5;28mself\u001b[39m, description, weight, price):\n\u001b[0;32m      3\u001b[0m     \u001b[38;5;28mself\u001b[39m\u001b[38;5;241m.\u001b[39mdescription \u001b[38;5;241m=\u001b[39m description\n\u001b[1;32m----> 4\u001b[0m     \u001b[38;5;28;43mself\u001b[39;49m\u001b[38;5;241;43m.\u001b[39;49m\u001b[43mweight\u001b[49m \u001b[38;5;241m=\u001b[39m weight\n\u001b[0;32m      5\u001b[0m     \u001b[38;5;28mself\u001b[39m\u001b[38;5;241m.\u001b[39mprice \u001b[38;5;241m=\u001b[39m price\n",
      "Cell \u001b[1;32mIn[12], line 19\u001b[0m, in \u001b[0;36mLineItem.weight\u001b[1;34m(self, value)\u001b[0m\n\u001b[0;32m     17\u001b[0m     \u001b[38;5;28mself\u001b[39m\u001b[38;5;241m.\u001b[39m__weigth \u001b[38;5;241m=\u001b[39m value\n\u001b[0;32m     18\u001b[0m \u001b[38;5;28;01melse\u001b[39;00m:\n\u001b[1;32m---> 19\u001b[0m     \u001b[38;5;28;01mraise\u001b[39;00m \u001b[38;5;167;01mValueError\u001b[39;00m(\u001b[38;5;124m'\u001b[39m\u001b[38;5;124mvalue must be > 0\u001b[39m\u001b[38;5;124m'\u001b[39m)\n",
      "\u001b[1;31mValueError\u001b[0m: value must be > 0"
     ]
    }
   ],
   "source": [
    "class LineItem:\n",
    "    def __init__(self, description, weight, price):\n",
    "        self.description = description\n",
    "        self.weight = weight\n",
    "        self.price = price\n",
    "\n",
    "    def subtotal(self):\n",
    "        return self.weight * self.price\n",
    "    \n",
    "    @property\n",
    "    def weight(self):\n",
    "        return self.__weight\n",
    "    \n",
    "    @weight.setter\n",
    "    def weight(self, value):\n",
    "        if value > 0:\n",
    "            self.__weigth = value\n",
    "        else:\n",
    "            raise ValueError('value must be > 0')\n",
    "        \n",
    "walnuts = LineItem('walnuts', 0, 10)"
   ]
  },
  {
   "cell_type": "markdown",
   "id": "ab8cafbf",
   "metadata": {},
   "source": [
    "### A proper look at properties"
   ]
  },
  {
   "cell_type": "markdown",
   "id": "3dc67a9b",
   "metadata": {},
   "source": [
    "When an instance and its class both have a data attribute by the same name, the instance attribute shadows the class attribute, at least when reading it through that instance"
   ]
  },
  {
   "cell_type": "code",
   "execution_count": 2,
   "id": "f3db4a35",
   "metadata": {},
   "outputs": [
    {
     "name": "stdout",
     "output_type": "stream",
     "text": [
      "{}\n",
      "the class data attr\n",
      "{'data': 'bar'}\n",
      "bar\n",
      "the class data attr\n",
      "the data prop value\n",
      "bar\n"
     ]
    },
    {
     "ename": "AttributeError",
     "evalue": "type object 'Class' has no attribute 'data'",
     "output_type": "error",
     "traceback": [
      "\u001b[1;31m---------------------------------------------------------------------------\u001b[0m",
      "\u001b[1;31mAttributeError\u001b[0m                            Traceback (most recent call last)",
      "Cell \u001b[1;32mIn[2], line 19\u001b[0m\n\u001b[0;32m     17\u001b[0m \u001b[38;5;28;01mdel\u001b[39;00m Class\u001b[38;5;241m.\u001b[39mdata\n\u001b[0;32m     18\u001b[0m \u001b[38;5;28mprint\u001b[39m(obj\u001b[38;5;241m.\u001b[39mdata)\n\u001b[1;32m---> 19\u001b[0m \u001b[38;5;28mprint\u001b[39m(\u001b[43mClass\u001b[49m\u001b[38;5;241;43m.\u001b[39;49m\u001b[43mdata\u001b[49m)\n",
      "\u001b[1;31mAttributeError\u001b[0m: type object 'Class' has no attribute 'data'"
     ]
    }
   ],
   "source": [
    "# Example of shadowing\n",
    "\n",
    "class Class:\n",
    "    data = 'the class data attr'\n",
    "    \n",
    "\n",
    "obj = Class()\n",
    "print(vars(obj))\n",
    "print(obj.data)\n",
    "obj.data = 'bar'\n",
    "print(vars(obj))\n",
    "print(obj.data)\n",
    "print(Class.data)\n",
    "\n",
    "Class.data = property(lambda self: 'the data prop value')\n",
    "print(obj.data)\n",
    "del Class.data\n",
    "print(obj.data)\n",
    "print(Class.data)"
   ]
  },
  {
   "cell_type": "markdown",
   "id": "df04b9f5",
   "metadata": {},
   "source": [
    "Properties override instance attributes"
   ]
  },
  {
   "cell_type": "code",
   "execution_count": null,
   "id": "1c6389f8",
   "metadata": {},
   "outputs": [
    {
     "name": "stdout",
     "output_type": "stream",
     "text": [
      "<property object at 0x000002022DED71F0>\n",
      "the prop value\n"
     ]
    }
   ],
   "source": [
    "class Class:\n",
    "    @property\n",
    "    def prop(self):\n",
    "        return 'the prop value'\n",
    "    \n",
    "print(Class.prop)\n",
    "obj = Class()\n",
    "print(obj.prop)\n"
   ]
  },
  {
   "cell_type": "code",
   "execution_count": 2,
   "id": "46a6589b",
   "metadata": {},
   "outputs": [
    {
     "ename": "AttributeError",
     "evalue": "can't set attribute 'prop'",
     "output_type": "error",
     "traceback": [
      "\u001b[1;31m---------------------------------------------------------------------------\u001b[0m",
      "\u001b[1;31mAttributeError\u001b[0m                            Traceback (most recent call last)",
      "Cell \u001b[1;32mIn[2], line 1\u001b[0m\n\u001b[1;32m----> 1\u001b[0m \u001b[43mobj\u001b[49m\u001b[38;5;241;43m.\u001b[39;49m\u001b[43mprop\u001b[49m \u001b[38;5;241m=\u001b[39m \u001b[38;5;124m'\u001b[39m\u001b[38;5;124mfoo\u001b[39m\u001b[38;5;124m'\u001b[39m\n",
      "\u001b[1;31mAttributeError\u001b[0m: can't set attribute 'prop'"
     ]
    }
   ],
   "source": [
    "obj.prop = 'foo'"
   ]
  },
  {
   "cell_type": "code",
   "execution_count": 3,
   "id": "23a70e43",
   "metadata": {},
   "outputs": [
    {
     "name": "stdout",
     "output_type": "stream",
     "text": [
      "{}\n",
      "{'prop': 'foo'}\n",
      "the prop value\n",
      "foo\n"
     ]
    }
   ],
   "source": [
    "print(vars(obj))\n",
    "obj.__dict__['prop'] = 'foo'\n",
    "print(vars(obj))\n",
    "print(obj.prop)\n",
    "Class.prop = 'baz'\n",
    "print(obj.prop)"
   ]
  },
  {
   "cell_type": "markdown",
   "id": "353ddfaf",
   "metadata": {},
   "source": [
    "### Property factory"
   ]
  },
  {
   "cell_type": "code",
   "execution_count": null,
   "id": "0d2d5638",
   "metadata": {},
   "outputs": [
    {
     "name": "stdout",
     "output_type": "stream",
     "text": [
      "8 13.95\n",
      "{'description': 'Moluccan nutmeg', 'weight': 8, 'price': 13.95}\n"
     ]
    }
   ],
   "source": [
    "def quantity(storage_name):\n",
    "    def qty_getter(instance):\n",
    "        return instance.__dict__[storage_name]\n",
    "    \n",
    "    def qty_setter(instance, value):\n",
    "        if value > 0:\n",
    "            instance.__dict__[storage_name] = value\n",
    "        else:\n",
    "            raise ValueError('value must be > 0')\n",
    "    \n",
    "    return property(qty_getter, qty_setter)\n",
    "\n",
    "\n",
    "class LineItem:\n",
    "    weight = quantity('weight')\n",
    "    price = quantity('price')\n",
    "\n",
    "    def __init__(self, description, weight, price):\n",
    "        self.description = description\n",
    "        self.weight = weight\n",
    "        self.price = price\n",
    "\n",
    "    def subtotal(self):\n",
    "        return self.weight*self.price\n",
    "    \n",
    "nutmeg = LineItem('Moluccan nutmeg', 8, 13.95)\n",
    "print(nutmeg.weight, nutmeg.price)\n",
    "print(nutmeg.__dict__)\n"
   ]
  },
  {
   "cell_type": "markdown",
   "id": "3c71e97c",
   "metadata": {},
   "source": [
    "### Handling attribute deletion\n",
    "The `del` keyword can be used to delete not only variables but also attributes"
   ]
  },
  {
   "cell_type": "code",
   "execution_count": 4,
   "id": "81bb3e47",
   "metadata": {},
   "outputs": [
    {
     "name": "stdout",
     "output_type": "stream",
     "text": [
      "green\n"
     ]
    },
    {
     "ename": "AttributeError",
     "evalue": "'Demo' object has no attribute 'color'",
     "output_type": "error",
     "traceback": [
      "\u001b[1;31m---------------------------------------------------------------------------\u001b[0m",
      "\u001b[1;31mAttributeError\u001b[0m                            Traceback (most recent call last)",
      "Cell \u001b[1;32mIn[4], line 8\u001b[0m\n\u001b[0;32m      6\u001b[0m \u001b[38;5;28mprint\u001b[39m(d\u001b[38;5;241m.\u001b[39mcolor)\n\u001b[0;32m      7\u001b[0m \u001b[38;5;28;01mdel\u001b[39;00m d\u001b[38;5;241m.\u001b[39mcolor\n\u001b[1;32m----> 8\u001b[0m \u001b[38;5;28mprint\u001b[39m(\u001b[43md\u001b[49m\u001b[38;5;241;43m.\u001b[39;49m\u001b[43mcolor\u001b[49m)\n",
      "\u001b[1;31mAttributeError\u001b[0m: 'Demo' object has no attribute 'color'"
     ]
    }
   ],
   "source": [
    "class Demo:\n",
    "    pass\n",
    "\n",
    "d = Demo()\n",
    "d.color = 'green'\n",
    "print(d.color)\n",
    "del d.color\n",
    "print(d.color)"
   ]
  },
  {
   "cell_type": "code",
   "execution_count": null,
   "id": "defc3758",
   "metadata": {},
   "outputs": [],
   "source": []
  }
 ],
 "metadata": {
  "kernelspec": {
   "display_name": "nbook",
   "language": "python",
   "name": "python3"
  },
  "language_info": {
   "codemirror_mode": {
    "name": "ipython",
    "version": 3
   },
   "file_extension": ".py",
   "mimetype": "text/x-python",
   "name": "python",
   "nbconvert_exporter": "python",
   "pygments_lexer": "ipython3",
   "version": "3.10.16"
  }
 },
 "nbformat": 4,
 "nbformat_minor": 5
}
