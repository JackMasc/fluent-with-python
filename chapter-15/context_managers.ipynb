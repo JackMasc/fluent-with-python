{
 "cells": [
  {
   "cell_type": "markdown",
   "id": "892e9b5b",
   "metadata": {},
   "source": [
    "# Context Managers and else Blocks"
   ]
  },
  {
   "cell_type": "code",
   "execution_count": null,
   "id": "81f0b519",
   "metadata": {},
   "outputs": [],
   "source": [
    "# Demonstration of a file object as a context manager\n",
    "\n",
    "with open('try.txt') as fp:\n",
    "    src = fp.read(60)\n",
    "\n",
    "print(len(src))\n",
    "\n",
    "print(fp)\n",
    "print(fp.closed, fp.encoding)\n",
    "fp.read(60)"
   ]
  },
  {
   "cell_type": "code",
   "execution_count": 4,
   "id": "8318cb29",
   "metadata": {},
   "outputs": [
    {
     "name": "stdout",
     "output_type": "stream",
     "text": [
      "GNIRTSEMOS\n",
      "detrever eb dluohs sihT\n",
      "SOMESTRING\n"
     ]
    }
   ],
   "source": [
    "# Context manager example\n",
    "\n",
    "class LookingGlass:\n",
    "\n",
    "    def __enter__(self):\n",
    "        global print\n",
    "        self.print_original = print\n",
    "        print = self.mirror_print\n",
    "        return 'SOMESTRING'\n",
    "    \n",
    "    def mirror_print(self, string):\n",
    "        self.print_original(string[::-1])\n",
    "    \n",
    "    def __exit__(self, exc_type, exc_value, traceback):\n",
    "        global print\n",
    "        print = self.print_original\n",
    "\n",
    "with LookingGlass() as lg:\n",
    "    print(lg)\n",
    "    print('This should be reverted')\n",
    "print(lg)"
   ]
  },
  {
   "cell_type": "code",
   "execution_count": 5,
   "id": "838bf748",
   "metadata": {},
   "outputs": [
    {
     "name": "stdout",
     "output_type": "stream",
     "text": [
      "<__main__.LookingGlass object at 0x0000024F689C81F0>\n",
      "GNIRTSEMOS\n",
      "SOMESTRING\n"
     ]
    }
   ],
   "source": [
    "# Example of usage of context manager without with blocks\n",
    "\n",
    "manager = LookingGlass()\n",
    "print(manager)\n",
    "monster = manager.__enter__()\n",
    "print(monster)\n",
    "manager.__exit__(None, None, None)\n",
    "print(monster)"
   ]
  },
  {
   "cell_type": "markdown",
   "id": "436e0eb4",
   "metadata": {},
   "source": [
    "## Using @contextmanager"
   ]
  },
  {
   "cell_type": "code",
   "execution_count": 6,
   "id": "a44113b9",
   "metadata": {},
   "outputs": [
    {
     "name": "stdout",
     "output_type": "stream",
     "text": [
      "oicciC\n",
      "GNIHTEMOS\n",
      "SOMETHING\n"
     ]
    }
   ],
   "source": [
    "import contextlib\n",
    "\n",
    "@contextlib.contextmanager\n",
    "def looking_glass():\n",
    "    import sys\n",
    "    original_write = sys.stdout.write\n",
    "\n",
    "    def reverse_write(text):\n",
    "        original_write(text[::-1])\n",
    "\n",
    "    sys.stdout.write = reverse_write\n",
    "    yield 'SOMETHING'\n",
    "    sys.stdout.write = original_write\n",
    "\n",
    "with looking_glass() as lg:\n",
    "    print('Ciccio')\n",
    "    print(lg)\n",
    "\n",
    "print(lg)"
   ]
  },
  {
   "cell_type": "code",
   "execution_count": null,
   "id": "43618836",
   "metadata": {},
   "outputs": [],
   "source": []
  }
 ],
 "metadata": {
  "kernelspec": {
   "display_name": "nbook",
   "language": "python",
   "name": "python3"
  },
  "language_info": {
   "codemirror_mode": {
    "name": "ipython",
    "version": 3
   },
   "file_extension": ".py",
   "mimetype": "text/x-python",
   "name": "python",
   "nbconvert_exporter": "python",
   "pygments_lexer": "ipython3",
   "version": "3.10.16"
  }
 },
 "nbformat": 4,
 "nbformat_minor": 5
}
