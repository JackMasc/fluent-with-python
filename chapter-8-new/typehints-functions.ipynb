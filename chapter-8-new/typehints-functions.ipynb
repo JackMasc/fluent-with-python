{
 "cells": [
  {
   "cell_type": "markdown",
   "id": "0c68de0c",
   "metadata": {},
   "source": [
    "# typehints in functions"
   ]
  },
  {
   "cell_type": "markdown",
   "id": "7c54f0bd",
   "metadata": {},
   "source": [
    "In terminal `mypy message.py`"
   ]
  },
  {
   "cell_type": "markdown",
   "id": "bad7a0ff",
   "metadata": {},
   "source": [
    "In terminal `mypy --disallow-untyped-defs message_test_no_type_hints.py`"
   ]
  },
  {
   "cell_type": "markdown",
   "id": "028bad1d",
   "metadata": {},
   "source": [
    "Better for gradual typing: `mypy --disallow-incomplete-defs message_test_no_type_hints.py` <br>\n",
    "\n",
    "you can add the flag in the config file as well"
   ]
  },
  {
   "cell_type": "markdown",
   "id": "fc37eb01",
   "metadata": {},
   "source": [
    "## Types"
   ]
  },
  {
   "cell_type": "markdown",
   "id": "92665b6a",
   "metadata": {},
   "source": [
    "#### Any\n",
    "It is the key of gradual typing, it accepts values of any type and it allows every possible operation."
   ]
  },
  {
   "cell_type": "markdown",
   "id": "5c2e56b6",
   "metadata": {},
   "source": [
    "#### Simple types and classes"
   ]
  },
  {
   "cell_type": "markdown",
   "id": "663554eb",
   "metadata": {},
   "source": [
    "#### Optional and union types\n",
    "The construct `Optional[str]` is the same as writingt `str | None`"
   ]
  },
  {
   "cell_type": "code",
   "execution_count": null,
   "id": "bd493683",
   "metadata": {},
   "outputs": [],
   "source": []
  }
 ],
 "metadata": {
  "kernelspec": {
   "display_name": "nbook",
   "language": "python",
   "name": "python3"
  },
  "language_info": {
   "codemirror_mode": {
    "name": "ipython",
    "version": 3
   },
   "file_extension": ".py",
   "mimetype": "text/x-python",
   "name": "python",
   "nbconvert_exporter": "python",
   "pygments_lexer": "ipython3",
   "version": "3.10.16"
  }
 },
 "nbformat": 4,
 "nbformat_minor": 5
}
