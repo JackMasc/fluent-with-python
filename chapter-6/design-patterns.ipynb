{
 "cells": [
  {
   "cell_type": "markdown",
   "metadata": {},
   "source": [
    "# Design patterns with first-class functions"
   ]
  },
  {
   "cell_type": "markdown",
   "metadata": {},
   "source": [
    "## Refactoring strategy"
   ]
  },
  {
   "cell_type": "markdown",
   "metadata": {},
   "source": [
    "### Classic strategy"
   ]
  },
  {
   "cell_type": "code",
   "execution_count": 6,
   "metadata": {},
   "outputs": [
    {
     "name": "stdout",
     "output_type": "stream",
     "text": [
      "27.0\n"
     ]
    }
   ],
   "source": [
    "from abc import ABC, abstractmethod\n",
    "from collections import namedtuple\n",
    "\n",
    "Customer = namedtuple('Customer', 'name fidelity')\n",
    "\n",
    "class LineItem:\n",
    "    def __init__(self, product, quantity, price):\n",
    "        self.product = product\n",
    "        self.quantity = quantity\n",
    "        self.price = price\n",
    "\n",
    "    def total(self):\n",
    "        return self.price*self.quantity\n",
    "        \n",
    "class Order:\n",
    "    def __init__(self, customer, cart, promotion=None):\n",
    "        self.customer = customer\n",
    "        self.cart = cart\n",
    "        self.promotion = promotion\n",
    "        self.__total = None\n",
    "\n",
    "    def total(self):\n",
    "        if not self.__total:\n",
    "            self.__total = sum(item.total() for item in self.cart)\n",
    "        return self.__total\n",
    "\n",
    "    def due(self):\n",
    "        if self.promotion:\n",
    "            return self.promotion.discounted(self.total())\n",
    "        return self.total()\n",
    "\n",
    "    def __repr__(self):\n",
    "        fmt = '<Order total: {:.2f} due: {:2.f}>'\n",
    "        return fmt.format(self.total(), self.due())\n",
    "    \n",
    "\n",
    "class PromotionStrategy(ABC):\n",
    "    @abstractmethod\n",
    "    def discount(price):\n",
    "        pass\n",
    "\n",
    "class FidelityPromotion(PromotionStrategy):\n",
    "\n",
    "    @staticmethod\n",
    "    def discounted(price):\n",
    "        final_price = price * 0.90\n",
    "        return final_price\n",
    "\n",
    "class BulkItemPromotion(PromotionStrategy):\n",
    "\n",
    "    @staticmethod\n",
    "    def discounted(price):\n",
    "        final_price = price * 0.85\n",
    "        return final_price\n",
    "\n",
    "        \n",
    "\n",
    "\n",
    "gino = Customer('gino', 'high')\n",
    "apple = LineItem('apple', 15, 2)\n",
    "order = Order(gino, [apple], FidelityPromotion)\n",
    "print(order.due())"
   ]
  },
  {
   "cell_type": "markdown",
   "metadata": {},
   "source": [
    "### Function oriented strategy"
   ]
  },
  {
   "cell_type": "code",
   "execution_count": 9,
   "metadata": {},
   "outputs": [
    {
     "name": "stdout",
     "output_type": "stream",
     "text": [
      "27.0\n"
     ]
    }
   ],
   "source": [
    "from abc import ABC, abstractmethod\n",
    "from collections import namedtuple\n",
    "\n",
    "Customer = namedtuple('Customer', 'name fidelity')\n",
    "\n",
    "class LineItem:\n",
    "    def __init__(self, product, quantity, price):\n",
    "        self.product = product\n",
    "        self.quantity = quantity\n",
    "        self.price = price\n",
    "\n",
    "    def total(self):\n",
    "        return self.price*self.quantity\n",
    "        \n",
    "class Order:\n",
    "    def __init__(self, customer, cart, promotion=None):\n",
    "        self.customer = customer\n",
    "        self.cart = cart\n",
    "        self.promotion = promotion\n",
    "        self.__total = None\n",
    "\n",
    "    def total(self):\n",
    "        if not self.__total:\n",
    "            self.__total = sum(item.total() for item in self.cart)\n",
    "        return self.__total\n",
    "\n",
    "    def due(self):\n",
    "        if self.promotion:\n",
    "            return self.promotion(self.total())\n",
    "        return self.total()\n",
    "\n",
    "    def __repr__(self):\n",
    "        fmt = '<Order total: {:.2f} due: {:2.f}>'\n",
    "        return fmt.format(self.total(), self.due())\n",
    "    \n",
    "\n",
    "def fidelity_discounted(price):\n",
    "    return price * 0.90\n",
    "\n",
    "def bulk_discounted(price):\n",
    "    return price * 0.85\n",
    "\n",
    "\n",
    "gino = Customer('gino', 'high')\n",
    "apple = LineItem('apple', 15, 2)\n",
    "order = Order(gino, [apple], fidelity_discounted)\n",
    "print(order.due())"
   ]
  },
  {
   "cell_type": "code",
   "execution_count": 16,
   "metadata": {},
   "outputs": [
    {
     "name": "stdout",
     "output_type": "stream",
     "text": [
      "25.5\n"
     ]
    }
   ],
   "source": [
    "# Suppose that in the above you want to automatically select the best promo\n",
    "\n",
    "from abc import ABC, abstractmethod\n",
    "from collections import namedtuple\n",
    "\n",
    "Customer = namedtuple('Customer', 'name fidelity')\n",
    "\n",
    "class LineItem:\n",
    "    def __init__(self, product, quantity, price):\n",
    "        self.product = product\n",
    "        self.quantity = quantity\n",
    "        self.price = price\n",
    "\n",
    "    def total(self):\n",
    "        return self.price*self.quantity\n",
    "        \n",
    "class Order:\n",
    "    def __init__(self, customer, cart, promotions=None):\n",
    "        self.customer = customer\n",
    "        self.cart = cart\n",
    "        self.promotions = promotions\n",
    "        self.__total = None\n",
    "\n",
    "    def total(self):\n",
    "        if not self.__total:\n",
    "            self.__total = sum(item.total() for item in self.cart)\n",
    "        return self.__total\n",
    "\n",
    "    def due(self):\n",
    "        if self.promotions:\n",
    "            return min(promotion(self.total()) for promotion in self.promotions)\n",
    "        return self.total()\n",
    "\n",
    "    def __repr__(self):\n",
    "        fmt = '<Order total: {:.2f} due: {:2.f}>'\n",
    "        return fmt.format(self.total(), self.due())\n",
    "    \n",
    "\n",
    "def fidelity_discounted(price):\n",
    "    return price * 0.90\n",
    "\n",
    "def bulk_discounted(price):\n",
    "    return price * 0.85\n",
    "\n",
    "\n",
    "gino = Customer('gino', 'high')\n",
    "apple = LineItem('apple', 15, 2)\n",
    "order = Order(gino, [apple], [fidelity_discounted, bulk_discounted])\n",
    "print(order.due())"
   ]
  },
  {
   "cell_type": "markdown",
   "metadata": {},
   "source": [
    "### Command design pattern"
   ]
  },
  {
   "cell_type": "code",
   "execution_count": 15,
   "metadata": {},
   "outputs": [],
   "source": [
    "class MacroCommand:\n",
    "    \"\"\"A command that executes a list of commands\"\"\"\n",
    "\n",
    "    def __init__(self,commands):\n",
    "        self.commands = list(commands)\n",
    "\n",
    "    def __call__(self):\n",
    "        for command in self.commands:\n",
    "            command()\n"
   ]
  }
 ],
 "metadata": {
  "kernelspec": {
   "display_name": ".venv",
   "language": "python",
   "name": "python3"
  },
  "language_info": {
   "codemirror_mode": {
    "name": "ipython",
    "version": 3
   },
   "file_extension": ".py",
   "mimetype": "text/x-python",
   "name": "python",
   "nbconvert_exporter": "python",
   "pygments_lexer": "ipython3",
   "version": "3.13.2"
  }
 },
 "nbformat": 4,
 "nbformat_minor": 2
}
