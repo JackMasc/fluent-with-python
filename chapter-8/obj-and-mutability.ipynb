{
 "cells": [
  {
   "cell_type": "markdown",
   "metadata": {},
   "source": [
    "# Object References, Mutability and Recycling"
   ]
  },
  {
   "cell_type": "markdown",
   "metadata": {},
   "source": [
    "Think about python variables as labels not as boxes. They are the equivalent of Java's references."
   ]
  },
  {
   "cell_type": "code",
   "execution_count": 1,
   "metadata": {},
   "outputs": [
    {
     "data": {
      "text/plain": [
       "[1, 3, 4, 5]"
      ]
     },
     "execution_count": 1,
     "metadata": {},
     "output_type": "execute_result"
    }
   ],
   "source": [
    "a = [1,3,4]\n",
    "b = a\n",
    "a.append(5)\n",
    "b"
   ]
  },
  {
   "cell_type": "markdown",
   "metadata": {},
   "source": [
    "Variables are assigned to objects, not the other way around. The right hand of the assignment happens first."
   ]
  },
  {
   "cell_type": "code",
   "execution_count": null,
   "metadata": {},
   "outputs": [
    {
     "name": "stdout",
     "output_type": "stream",
     "text": [
      "Gigi id: 2944633497520\n",
      "<generator object <genexpr> at 0x000002AD9B3792F0>\n",
      "Gigi id: 2944631370320\n"
     ]
    },
    {
     "ename": "TypeError",
     "evalue": "unsupported operand type(s) for *: 'Gigi' and 'int'",
     "output_type": "error",
     "traceback": [
      "\u001b[1;31m---------------------------------------------------------------------------\u001b[0m",
      "\u001b[1;31mTypeError\u001b[0m                                 Traceback (most recent call last)",
      "Cell \u001b[1;32mIn[3], line 9\u001b[0m\n\u001b[0;32m      7\u001b[0m x \u001b[38;5;241m=\u001b[39m Gigi()\n\u001b[0;32m      8\u001b[0m \u001b[38;5;28mprint\u001b[39m(var \u001b[38;5;28;01mfor\u001b[39;00m var \u001b[38;5;129;01min\u001b[39;00m \u001b[38;5;28mdir\u001b[39m() \u001b[38;5;28;01mif\u001b[39;00m var[\u001b[38;5;241m0\u001b[39m] \u001b[38;5;241m!=\u001b[39m \u001b[38;5;124m\"\u001b[39m\u001b[38;5;124m_\u001b[39m\u001b[38;5;124m\"\u001b[39m)\n\u001b[1;32m----> 9\u001b[0m y \u001b[38;5;241m=\u001b[39m \u001b[43mGigi\u001b[49m\u001b[43m(\u001b[49m\u001b[43m)\u001b[49m\u001b[38;5;241;43m*\u001b[39;49m\u001b[38;5;241;43m10\u001b[39;49m\n",
      "\u001b[1;31mTypeError\u001b[0m: unsupported operand type(s) for *: 'Gigi' and 'int'"
     ]
    }
   ],
   "source": [
    "# Variables are assigned to objects only after the objects are created\n",
    "\n",
    "class Gigi:\n",
    "    def __init__(self):\n",
    "        print(\"Gigi id: %d\" % id(self))\n",
    "\n",
    "x = Gigi()\n",
    "y = Gigi()*10\n"
   ]
  },
  {
   "cell_type": "code",
   "execution_count": 4,
   "metadata": {},
   "outputs": [
    {
     "name": "stdout",
     "output_type": "stream",
     "text": [
      "['Gigi', 'In', 'Out', '_', '_1', '__', '___', '__builtin__', '__builtins__', '__doc__', '__loader__', '__name__', '__package__', '__spec__', '__vsc_ipynb_file__', '_dh', '_i', '_i1', '_i2', '_i3', '_i4', '_ih', '_ii', '_iii', '_oh', 'a', 'b', 'exit', 'get_ipython', 'open', 'quit', 'x']\n"
     ]
    }
   ],
   "source": [
    "# variable y was not created\n",
    "print(dir())"
   ]
  },
  {
   "cell_type": "markdown",
   "metadata": {},
   "source": [
    "## Identity Equality and Aliases"
   ]
  },
  {
   "cell_type": "code",
   "execution_count": null,
   "metadata": {},
   "outputs": [
    {
     "name": "stdout",
     "output_type": "stream",
     "text": [
      "True\n",
      "3103143447360 3103143447360\n",
      "{'name': 'charles dogson', 'born': 1832, 'balance': 13}\n"
     ]
    }
   ],
   "source": [
    "# charles and lewis refer to the same object (lewis is an alias for charles)\n",
    "\n",
    "charles = {\"name\": \"charles dogson\", \"born\": 1832}\n",
    "lewis = charles\n",
    "print(charles is lewis)\n",
    "print(id(charles), id(lewis))\n",
    "lewis[\"balance\"] = 13\n",
    "print(charles)"
   ]
  },
  {
   "cell_type": "code",
   "execution_count": 3,
   "metadata": {},
   "outputs": [
    {
     "name": "stdout",
     "output_type": "stream",
     "text": [
      "True\n"
     ]
    },
    {
     "data": {
      "text/plain": [
       "True"
      ]
     },
     "execution_count": 3,
     "metadata": {},
     "output_type": "execute_result"
    }
   ],
   "source": [
    "# alex and lewis are the same object but alex is not\n",
    "\n",
    "alex = {\"name\": \"charles dogson\", \"born\": 1832, \"balance\": 13}\n",
    "print(alex == charles)\n",
    "alex is not charles"
   ]
  },
  {
   "cell_type": "markdown",
   "metadata": {},
   "source": [
    "## Tuples may change"
   ]
  },
  {
   "cell_type": "markdown",
   "metadata": {},
   "source": [
    "Tuples hold references to object, those references can not change, but the object may change if they are mutable."
   ]
  },
  {
   "cell_type": "code",
   "execution_count": 5,
   "metadata": {},
   "outputs": [
    {
     "name": "stdout",
     "output_type": "stream",
     "text": [
      "False\n",
      "3103142850752\n",
      "(1, 2, [20, 30, 99])\n",
      "3103142850752\n"
     ]
    },
    {
     "data": {
      "text/plain": [
       "False"
      ]
     },
     "execution_count": 5,
     "metadata": {},
     "output_type": "execute_result"
    }
   ],
   "source": [
    "t1 = (1,2,[20,30])\n",
    "t2 = (1,2,(20,30))\n",
    "print(t1 == t2)\n",
    "print(id(t1[-1]))\n",
    "t1[-1].append(99)\n",
    "print(t1)\n",
    "print(id(t1[-1]))\n",
    "t1 == t2"
   ]
  },
  {
   "cell_type": "markdown",
   "metadata": {},
   "source": [
    "## Copies of objects\n",
    "The easiest way to copy an object is to use the built in constructor type. Or the slicing notation `d = c[:]`. <br>\n",
    "These methods though produce a **shallow copy**. A shallow copy copies all the reference variables inside of the copied object, but not the referenced objects themselves. <br>\n",
    "Shallow copies are good to save memory but if not all the referenced objects are immutable you could have bad surprises."
   ]
  },
  {
   "cell_type": "code",
   "execution_count": 7,
   "metadata": {},
   "outputs": [
    {
     "name": "stdout",
     "output_type": "stream",
     "text": [
      "[1, 2, 3, [4, 5], (6, 7)]\n",
      "True\n"
     ]
    },
    {
     "data": {
      "text/plain": [
       "False"
      ]
     },
     "execution_count": 7,
     "metadata": {},
     "output_type": "execute_result"
    }
   ],
   "source": [
    "l1 = [1,2,3,[4,5],(6,7)]\n",
    "l2 = list(l1)\n",
    "print(l2)\n",
    "print(l2 == l1)\n",
    "l2 is l1 "
   ]
  },
  {
   "cell_type": "code",
   "execution_count": 8,
   "metadata": {},
   "outputs": [
    {
     "name": "stdout",
     "output_type": "stream",
     "text": [
      "l1:  [3, [66, 44], (7, 8, 9), 100]\n",
      "l2:  [3, [66, 44], (7, 8, 9)]\n",
      "l1:  [3, [66, 44, 33, 22], (7, 8, 9), 100]\n",
      "l2:  [3, [66, 44, 33, 22], (7, 8, 9, 10, 11)]\n"
     ]
    }
   ],
   "source": [
    "# Example making a shallow copy of a nested list\n",
    "\n",
    "l1 = [3, [66, 55, 44], (7,8,9)]\n",
    "l2 = list(l1)\n",
    "l1.append(100)\n",
    "l1[1].remove(55)\n",
    "print(\"l1: \", l1)\n",
    "print(\"l2: \", l2)\n",
    "l2[1] += [33,22]\n",
    "l2[2] += (10,11)\n",
    "print(\"l1: \", l1)\n",
    "print(\"l2: \", l2)\n"
   ]
  },
  {
   "cell_type": "markdown",
   "metadata": {},
   "source": [
    "### Deep and Shallow copies of arbitrary objects"
   ]
  },
  {
   "cell_type": "code",
   "execution_count": 12,
   "metadata": {},
   "outputs": [
    {
     "name": "stdout",
     "output_type": "stream",
     "text": [
      "3103143343984 3103144661136 3103144660496\n",
      "['Alice', 'Claire', 'David']\n",
      "3103167933248 3103167933248 3103142980032\n"
     ]
    },
    {
     "data": {
      "text/plain": [
       "['Alice', 'Bill', 'Claire', 'David']"
      ]
     },
     "execution_count": 12,
     "metadata": {},
     "output_type": "execute_result"
    }
   ],
   "source": [
    "class Bus:\n",
    "    def __init__(self, passengers=None):\n",
    "        if passengers is None:\n",
    "            self.passengers = []\n",
    "        else:\n",
    "            self.passengers = list(passengers)\n",
    "    \n",
    "    def pick(self, name):\n",
    "        self.passengers.append(name)\n",
    "\n",
    "    def drop(self, name):\n",
    "        self.passengers.remove(name)\n",
    "\n",
    "\n",
    "\n",
    "import copy\n",
    "bus1 = Bus([\"Alice\", \"Bill\", \"Claire\", \"David\"])\n",
    "bus2 = copy.copy(bus1)\n",
    "bus3 = copy.deepcopy(bus1)\n",
    "\n",
    "print(id(bus1), id(bus2), id(bus3))\n",
    "bus1.drop(\"Bill\")\n",
    "print(bus2.passengers)\n",
    "print(id(bus1.passengers), id(bus2.passengers), id(bus3.passengers))\n",
    "bus3.passengers"
   ]
  },
  {
   "cell_type": "markdown",
   "metadata": {},
   "source": [
    "Deepcopy remember the objects already copied to handle cyclic references gracefully"
   ]
  },
  {
   "cell_type": "code",
   "execution_count": 13,
   "metadata": {},
   "outputs": [
    {
     "name": "stdout",
     "output_type": "stream",
     "text": [
      "[10, 20, [[...], 30]]\n",
      "[10, 20, [[...], 30]]\n"
     ]
    }
   ],
   "source": [
    "# cyclic references\n",
    "from copy import deepcopy\n",
    "\n",
    "a = [10,20]\n",
    "b= [a,30]\n",
    "a.append(b)\n",
    "print(a)\n",
    "c = deepcopy(a)\n",
    "print(c)"
   ]
  },
  {
   "cell_type": "markdown",
   "metadata": {},
   "source": [
    "## Function parameters as references\n",
    "In python parameters are always passed by reference (also said *call by sharing*). <br>\n",
    "As a result a function may change any mutable object passed as paremeter, but cannot change their ids (identities)."
   ]
  },
  {
   "cell_type": "code",
   "execution_count": 1,
   "metadata": {},
   "outputs": [
    {
     "name": "stdout",
     "output_type": "stream",
     "text": [
      "3\n",
      "1 2\n",
      "[1, 2, 3, 4]\n",
      "[1, 2, 3, 4] [3, 4]\n",
      "(10, 20, 30, 40)\n",
      "(10, 20) (30, 40)\n"
     ]
    }
   ],
   "source": [
    "# A function may change any mutable object it receives\n",
    "\n",
    "def f(a,b):\n",
    "    a += b\n",
    "    return a\n",
    "\n",
    "x=1\n",
    "y=2\n",
    "print(f(x,y))\n",
    "print(x, y)\n",
    "a = [1,2]\n",
    "b = [3,4]\n",
    "print(f(a,b))\n",
    "print(a, b)\n",
    "t = (10,20)\n",
    "u = (30,40)\n",
    "print(f(t,u))\n",
    "print(t, u)"
   ]
  },
  {
   "cell_type": "markdown",
   "metadata": {},
   "source": [
    "## Mutable Types as parameter defaults: BAD IDEA"
   ]
  },
  {
   "cell_type": "code",
   "execution_count": 3,
   "metadata": {},
   "outputs": [
    {
     "name": "stdout",
     "output_type": "stream",
     "text": [
      "['Alice', 'Bill']\n",
      "['Bill', 'Charlie']\n",
      "['Gigi']\n",
      "['Gigi']\n",
      "['Gigi', 'Dave']\n",
      "True\n",
      "(['Gigi', 'Dave'],)\n"
     ]
    }
   ],
   "source": [
    "# Simple class to show the danger of a mutable default\n",
    "\n",
    "class HauntedBus:\n",
    "    def __init__(self, passengers:list =[]):\n",
    "        self.passengers = passengers\n",
    "\n",
    "    def pick(self, name):\n",
    "        self.passengers.append(name)\n",
    "    \n",
    "    def drop(self, name):\n",
    "        self.passengers.remove(name)\n",
    "\n",
    "\n",
    "bus1 = HauntedBus([\"Alice\", \"Bill\"])\n",
    "print(bus1.passengers)\n",
    "bus1.pick(\"Charlie\")\n",
    "bus1.drop(\"Alice\")\n",
    "print(bus1.passengers)\n",
    "bus2 = HauntedBus()\n",
    "bus2.pick(\"Gigi\")\n",
    "print(bus2.passengers)\n",
    "bus3 = HauntedBus()\n",
    "print(bus3.passengers)\n",
    "bus3.pick(\"Dave\")\n",
    "print(bus2.passengers)\n",
    "print(bus2.passengers is bus3.passengers)\n",
    "print(HauntedBus.__init__.__defaults__)"
   ]
  },
  {
   "cell_type": "markdown",
   "metadata": {},
   "source": [
    "## Defensive programming with mutable parameters"
   ]
  },
  {
   "cell_type": "markdown",
   "metadata": {},
   "source": [
    "We should follow the *Principle of least astonishment* and avoid to directly modify mutable objects passed as arguments. <br>\n",
    "The best practice thus is to copy the referenced mutable object inside of the callable before updating it."
   ]
  },
  {
   "cell_type": "code",
   "execution_count": 4,
   "metadata": {},
   "outputs": [
    {
     "name": "stdout",
     "output_type": "stream",
     "text": [
      "['Gino', 'Pino']\n"
     ]
    }
   ],
   "source": [
    "# Example of modifying mutable input arguments inside the caller\n",
    "\n",
    "class TwilightBus:\n",
    "    def __init__(self, passengers=None):\n",
    "        if passengers is None:\n",
    "            self.passengers = []\n",
    "        else:\n",
    "            self.passengers = passengers\n",
    "\n",
    "    def pick(self, name):\n",
    "        self.passengers.append(name)\n",
    "    \n",
    "    def drop(self, name):\n",
    "        self.passengers.remove(name)\n",
    "\n",
    "basketball_team = [\"Gino\", \"Pino\", \"Luigi\", \"Mario\"]\n",
    "bus = TwilightBus(basketball_team)\n",
    "bus.drop(\"Luigi\")\n",
    "bus.drop(\"Mario\")\n",
    "print(basketball_team)"
   ]
  },
  {
   "cell_type": "markdown",
   "metadata": {},
   "source": [
    "## del and garbage collection"
   ]
  },
  {
   "cell_type": "markdown",
   "metadata": {},
   "source": [
    "Objects in Python are never explicitly destroyed; however, when they become unreachaable they may be garbage-collected. <br>\n",
    "The `del` statement deletes names, not objects."
   ]
  },
  {
   "cell_type": "code",
   "execution_count": 9,
   "metadata": {},
   "outputs": [
    {
     "name": "stdout",
     "output_type": "stream",
     "text": [
      "True\n",
      "True\n",
      "Gone\n",
      "False\n"
     ]
    }
   ],
   "source": [
    "import weakref\n",
    "\n",
    "s1 = {1,3,4}\n",
    "s2 = s1\n",
    "def bye():\n",
    "    print('Gone')\n",
    "ender = weakref.finalize(s1, bye)\n",
    "print(ender.alive)\n",
    "del s1\n",
    "print(ender.alive)\n",
    "s2 = 'spam'\n",
    "print(ender.alive)"
   ]
  },
  {
   "cell_type": "markdown",
   "metadata": {},
   "source": [
    "## Weak references\n",
    "Sometimes it is useful to keep a reference to an object without increasing the reference count. This can be useful for example for caching."
   ]
  },
  {
   "cell_type": "code",
   "execution_count": 19,
   "metadata": {},
   "outputs": [
    {
     "name": "stdout",
     "output_type": "stream",
     "text": [
      "<weakref at 0x000001CEBE264720; to 'set' at 0x000001CEBE206340>\n",
      "{0, 1}\n",
      "None\n"
     ]
    }
   ],
   "source": [
    "import weakref\n",
    "import time\n",
    "\n",
    "_ = {0,1}\n",
    "wref = weakref.ref(_)\n",
    "print(wref)\n",
    "print(wref())\n",
    "_={2,3,4}\n",
    "print(wref())\n",
    "\n",
    "\n",
    "\n"
   ]
  },
  {
   "cell_type": "markdown",
   "metadata": {},
   "source": [
    "## WeakValueDictionary\n",
    "Commonly used for caching"
   ]
  },
  {
   "cell_type": "code",
   "execution_count": 1,
   "metadata": {},
   "outputs": [
    {
     "name": "stdout",
     "output_type": "stream",
     "text": [
      "['Brie', 'Parmesan', 'RedLeicester', 'Tilsit']\n",
      "['Parmesan']\n",
      "[]\n"
     ]
    }
   ],
   "source": [
    "class Cheese:\n",
    "    def __init__(self, kind):\n",
    "        self.kind = kind\n",
    "    \n",
    "    def __repr__(self):\n",
    "        return f\"Cheese({self.kind})\"\n",
    "    \n",
    "\n",
    "import weakref\n",
    "stock = weakref.WeakValueDictionary()\n",
    "catalog = [Cheese('RedLeicester'), Cheese(\"Tilsit\"), Cheese(\"Brie\"), Cheese(\"Parmesan\")]\n",
    "for cheese in catalog:\n",
    "    stock[cheese.kind] = cheese\n",
    "\n",
    "print(sorted(stock.keys()))\n",
    "\n",
    "del catalog\n",
    "print(sorted(stock.keys()))\n",
    "del cheese\n",
    "print(sorted(stock.keys()))"
   ]
  },
  {
   "cell_type": "markdown",
   "metadata": {},
   "source": [
    "### Limitations of weak references\n",
    "Wak references can not target all objects, like list and dict. In that case you would need to subclass the object first, in order to refernce it. <br>\n",
    "int and tuples though cannot be referenced even if subclasses of those types are created."
   ]
  },
  {
   "cell_type": "code",
   "execution_count": null,
   "metadata": {},
   "outputs": [],
   "source": []
  }
 ],
 "metadata": {
  "kernelspec": {
   "display_name": ".venv",
   "language": "python",
   "name": "python3"
  },
  "language_info": {
   "codemirror_mode": {
    "name": "ipython",
    "version": 3
   },
   "file_extension": ".py",
   "mimetype": "text/x-python",
   "name": "python",
   "nbconvert_exporter": "python",
   "pygments_lexer": "ipython3",
   "version": "3.13.2"
  }
 },
 "nbformat": 4,
 "nbformat_minor": 2
}
