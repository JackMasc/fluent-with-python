{
 "cells": [
  {
   "cell_type": "markdown",
   "metadata": {},
   "source": [
    "# Inheritance"
   ]
  },
  {
   "cell_type": "markdown",
   "metadata": {},
   "source": [
    "## Subclassing built in types\n",
    "Not always we get what we expect because built in methods often do not call user defined methods because they are written in C."
   ]
  },
  {
   "cell_type": "code",
   "execution_count": 1,
   "metadata": {},
   "outputs": [
    {
     "name": "stdout",
     "output_type": "stream",
     "text": [
      "{'one': 1}\n",
      "{'one': 1, 'two': [2, 2]}\n",
      "{'one': 1, 'two': [2, 2], 'three': 3}\n"
     ]
    }
   ],
   "source": [
    "# Our custom __setitem__ is ignored by the built in dict methods\n",
    "\n",
    "class DoppelDict(dict):\n",
    "    def __setitem__(self, key, value):\n",
    "        super().__setitem__(key, [value]*2)\n",
    "\n",
    "dd = DoppelDict(one=1)\n",
    "print(dd)\n",
    "dd['two'] = 2\n",
    "print(dd)\n",
    "dd.update(three = 3)\n",
    "print(dd)\n"
   ]
  },
  {
   "cell_type": "markdown",
   "metadata": {},
   "source": [
    "This is a violation of the basic rule of object-oriented programming"
   ]
  },
  {
   "cell_type": "code",
   "execution_count": 2,
   "metadata": {},
   "outputs": [
    {
     "name": "stdout",
     "output_type": "stream",
     "text": [
      "42\n",
      "foo\n",
      "{'a': 'foo'}\n"
     ]
    }
   ],
   "source": [
    "# Example the same problem happens when calling overriden methods of other classes using BIF methods\n",
    "\n",
    "class AnswerDict(dict):\n",
    "    def __getitem__(self,key):\n",
    "        return 42\n",
    "\n",
    "ad = AnswerDict(a='foo')\n",
    "print(ad['a'])\n",
    "d = {}\n",
    "d.update(ad)\n",
    "print(d['a'])\n",
    "print(d)"
   ]
  },
  {
   "cell_type": "markdown",
   "metadata": {},
   "source": [
    "Thus instead of directly subclassing the built in types, subclass `UserDict`, `UserList` and `UserString` from `collections`."
   ]
  },
  {
   "cell_type": "code",
   "execution_count": 4,
   "metadata": {},
   "outputs": [
    {
     "name": "stdout",
     "output_type": "stream",
     "text": [
      "{'one': [1, 1], 'two': [2, 2], 'three': [3, 3]}\n"
     ]
    }
   ],
   "source": [
    "# Example subclassing from collections: everything works!\n",
    "\n",
    "import collections\n",
    "\n",
    "class DoppelDict2(collections.UserDict):\n",
    "    def __setitem__(self, key, value):\n",
    "        return super().__setitem__(key, [value] * 2)\n",
    "    \n",
    "dd = DoppelDict2(one = 1)\n",
    "dd['two'] = 2\n",
    "dd.update(three = 3)\n",
    "print(dd)"
   ]
  },
  {
   "cell_type": "code",
   "execution_count": 6,
   "metadata": {},
   "outputs": [
    {
     "name": "stdout",
     "output_type": "stream",
     "text": [
      "42\n",
      "{'a': 42}\n"
     ]
    }
   ],
   "source": [
    "# Similar example to the above\n",
    "\n",
    "import collections\n",
    "\n",
    "class AnswerDict2(collections.UserDict):\n",
    "    def __getitem__(self, _):\n",
    "        return 42\n",
    "    \n",
    "ad = AnswerDict2(a = 3)\n",
    "print(ad['a'])\n",
    "d = {}\n",
    "d.update(ad)\n",
    "print(d)\n"
   ]
  },
  {
   "cell_type": "markdown",
   "metadata": {},
   "source": [
    "## Multiple inheritance and method resolution order (mro)\n",
    "How does Python handle the \"diamond problem\"?"
   ]
  },
  {
   "cell_type": "code",
   "execution_count": 8,
   "metadata": {},
   "outputs": [],
   "source": [
    "# Diamond problem in Python\n",
    "\n",
    "class A:\n",
    "    def ping(self):\n",
    "        print('ping', self)\n",
    "\n",
    "class B(A):\n",
    "    def pong(self):\n",
    "        print('pong', self)\n",
    "\n",
    "class C(A):\n",
    "    def pong(self):\n",
    "        print('PONG', self)\n",
    "\n",
    "class D(B, C):\n",
    "    def ping(self):\n",
    "        super().ping()\n",
    "        print('post-ping:', self)\n",
    "\n",
    "    def pingpong(self):\n",
    "        self.ping()\n",
    "        super().ping()\n",
    "        self.pong()\n",
    "        super().pong()\n",
    "        C.pong(self)\n"
   ]
  },
  {
   "cell_type": "markdown",
   "metadata": {},
   "source": [
    "You can specify explicitly which method you want to use by specifying which class to use."
   ]
  },
  {
   "cell_type": "code",
   "execution_count": 9,
   "metadata": {},
   "outputs": [
    {
     "name": "stdout",
     "output_type": "stream",
     "text": [
      "pong <__main__.D object at 0x0000028FD2762A50>\n",
      "PONG <__main__.D object at 0x0000028FD2762A50>\n"
     ]
    }
   ],
   "source": [
    "d = D()\n",
    "d.pong()\n",
    "C.pong(d)"
   ]
  },
  {
   "cell_type": "markdown",
   "metadata": {},
   "source": [
    "If you do not specify this explicitly, then Python has its own rules and follows a specific order called MRO (method resolution order). This can be seen in the `__mro__` attribute. <br>\n",
    "`super()` follows the MRO when invoking a method."
   ]
  },
  {
   "cell_type": "code",
   "execution_count": 10,
   "metadata": {},
   "outputs": [
    {
     "data": {
      "text/plain": [
       "(__main__.D, __main__.B, __main__.C, __main__.A, object)"
      ]
     },
     "execution_count": 10,
     "metadata": {},
     "output_type": "execute_result"
    }
   ],
   "source": [
    "D.__mro__"
   ]
  },
  {
   "cell_type": "code",
   "execution_count": 11,
   "metadata": {},
   "outputs": [
    {
     "name": "stdout",
     "output_type": "stream",
     "text": [
      "ping <__main__.D object at 0x0000028FD2A24CD0>\n",
      "post-ping: <__main__.D object at 0x0000028FD2A24CD0>\n",
      "ping <__main__.D object at 0x0000028FD2A24CD0>\n",
      "post-ping: <__main__.D object at 0x0000028FD2A24CD0>\n",
      "ping <__main__.D object at 0x0000028FD2A24CD0>\n",
      "pong <__main__.D object at 0x0000028FD2A24CD0>\n",
      "pong <__main__.D object at 0x0000028FD2A24CD0>\n",
      "PONG <__main__.D object at 0x0000028FD2A24CD0>\n"
     ]
    }
   ],
   "source": [
    "d = D()\n",
    "d.ping()\n",
    "d.pingpong()"
   ]
  },
  {
   "cell_type": "markdown",
   "metadata": {},
   "source": [
    "## Coping with multiple inheritance\n",
    "Check the book"
   ]
  }
 ],
 "metadata": {
  "kernelspec": {
   "display_name": ".venv",
   "language": "python",
   "name": "python3"
  },
  "language_info": {
   "codemirror_mode": {
    "name": "ipython",
    "version": 3
   },
   "file_extension": ".py",
   "mimetype": "text/x-python",
   "name": "python",
   "nbconvert_exporter": "python",
   "pygments_lexer": "ipython3",
   "version": "3.13.1"
  }
 },
 "nbformat": 4,
 "nbformat_minor": 2
}
