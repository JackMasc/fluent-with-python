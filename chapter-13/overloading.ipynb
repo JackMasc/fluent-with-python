{
 "cells": [
  {
   "cell_type": "markdown",
   "id": "d33525f1",
   "metadata": {},
   "source": [
    "# Operator overloading\n",
    "Stick to the fundamental rule of operators: always return a new object."
   ]
  },
  {
   "cell_type": "code",
   "execution_count": 10,
   "id": "44d13a4f",
   "metadata": {},
   "outputs": [],
   "source": [
    "from array import array\n",
    "import numbers\n",
    "\n",
    "class Vector:\n",
    "    typecode = 'd'\n",
    "\n",
    "    def __init__(self, components):\n",
    "        self._components = array(self.typecode, components)\n",
    "\n",
    "    def __len__(self):\n",
    "        return len(self._components)\n",
    "    \n",
    "    def __getitem__(self, index):\n",
    "        return self._components[index]\n",
    "\n",
    "    def __iter__(self):\n",
    "        return iter(self._components)\n",
    "\n",
    "    def __mul__(self, scalar):\n",
    "        if isinstance(scalar, numbers.Real):\n",
    "            return Vector(n * scalar for n in self)\n",
    "        else:\n",
    "            return NotImplemented\n",
    "    \n",
    "    def __rmul__(self, scalar):\n",
    "        return self * scalar\n",
    "    \n",
    "    def __matmul__(self, other):\n",
    "        try:\n",
    "            return sum(a*b for a,b in zip(self, other))\n",
    "        except TypeError:\n",
    "            return NotImplemented\n",
    "    \n",
    "    def __rmatmul__(self, other):\n",
    "        return self @ other\n",
    "    \n",
    "    def __eq__(self, other):\n",
    "        if isinstance(other, Vector):\n",
    "            return len(self) == len(other) and all([i==j for i, j in zip(self, other)])\n",
    "        else:\n",
    "            return NotImplemented\n",
    "        \n",
    "    def __add__(self, other):\n",
    "        return Vector([i + j for i, j in zip(self, other)])\n",
    "    \n",
    "    def __repr__(self):\n",
    "        return f\"Vector({list(self._components)})\""
   ]
  },
  {
   "cell_type": "code",
   "execution_count": 5,
   "id": "1225f2e8",
   "metadata": {},
   "outputs": [
    {
     "name": "stdout",
     "output_type": "stream",
     "text": [
      "False\n",
      "True\n",
      "False\n"
     ]
    }
   ],
   "source": [
    "va = Vector([1,2,3])\n",
    "vz = Vector([5,6,7])\n",
    "va @ vz\n",
    "\n",
    "print(va == vz)\n",
    "print(va == va)\n",
    "print(va == [1,2,3])"
   ]
  },
  {
   "cell_type": "markdown",
   "id": "54543022",
   "metadata": {},
   "source": [
    "## Augmented assignment\n",
    "Augmented assignment works with immutable objects by creating a new instance and rebinding. <br>\n",
    "If an object is immutable you should not define the augmented assignment operators methods, they use by default the normal arithmetical assignments."
   ]
  },
  {
   "cell_type": "code",
   "execution_count": 11,
   "id": "5ecc69e9",
   "metadata": {},
   "outputs": [
    {
     "name": "stdout",
     "output_type": "stream",
     "text": [
      "2227876818720\n",
      "Vector([5.0, 7.0, 9.0])\n",
      "2227855997920\n",
      "Vector([1.0, 2.0, 3.0])\n",
      "Vector([55.0, 77.0, 99.0])\n",
      "2227855988464\n"
     ]
    }
   ],
   "source": [
    "v1 = Vector([1,2,3])\n",
    "v1_alias = v1\n",
    "print(id(v1))\n",
    "v1 += Vector([4,5,6])\n",
    "print(v1)\n",
    "print(id(v1))\n",
    "print(v1_alias)\n",
    "v1 *= 11\n",
    "print(v1)\n",
    "print(id(v1))"
   ]
  },
  {
   "cell_type": "code",
   "execution_count": null,
   "id": "5c79b42e",
   "metadata": {},
   "outputs": [],
   "source": []
  }
 ],
 "metadata": {
  "kernelspec": {
   "display_name": "nbook",
   "language": "python",
   "name": "python3"
  },
  "language_info": {
   "codemirror_mode": {
    "name": "ipython",
    "version": 3
   },
   "file_extension": ".py",
   "mimetype": "text/x-python",
   "name": "python",
   "nbconvert_exporter": "python",
   "pygments_lexer": "ipython3",
   "version": "3.10.16"
  }
 },
 "nbformat": 4,
 "nbformat_minor": 5
}
